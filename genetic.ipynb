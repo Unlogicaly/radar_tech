{
 "cells": [
  {
   "cell_type": "code",
   "execution_count": 1,
   "outputs": [],
   "source": [
    "import heapq\n",
    "import numpy as np\n",
    "import copy"
   ],
   "metadata": {
    "collapsed": false,
    "pycharm": {
     "name": "#%%\n"
    }
   }
  },
  {
   "cell_type": "code",
   "execution_count": 2,
   "outputs": [],
   "source": [
    "class Individual:\n",
    "    def __init__(self, nodes, weight):\n",
    "        self.nodes = set(nodes)\n",
    "        self.weight = weight\n",
    "\n",
    "    def __str__(self):\n",
    "        return f\"{self.nodes}, weight: {self.weight}\"\n",
    "\n",
    "    def __repr__(self):\n",
    "        return f\"{self.nodes}, weight: {self.weight}\"\n",
    "\n",
    "    def __eq__(self, other):\n",
    "        return self.nodes == other.nodes\n",
    "\n",
    "    def __lt__(self, other):\n",
    "        return self.weight < other.weight\n",
    "\n",
    "    def __hash__(self):\n",
    "        return hash(tuple(self.nodes))\n"
   ],
   "metadata": {
    "collapsed": false,
    "pycharm": {
     "name": "#%%\n"
    }
   }
  },
  {
   "cell_type": "code",
   "execution_count": 3,
   "outputs": [],
   "source": [
    "class Population:\n",
    "    def __init__(self, individuals):\n",
    "        self.individuals = individuals\n",
    "        self.weights = np.zeros(len(individuals))\n",
    "        self.total_weight = 0\n",
    "        for i, individual in enumerate(individuals):\n",
    "            self.weights[i] = individual.weight\n",
    "            self.total_weight += individual.weight\n",
    "\n",
    "    def add_individual(self, individual):\n",
    "        self.individuals.append(individual)\n",
    "        self.total_weight += individual.weight\n",
    "        self.weights = np.append(self.weights, individual.weight)\n",
    "\n",
    "    def size(self):\n",
    "        return len(self.individuals)\n",
    "\n",
    "    def __repr__(self):\n",
    "        return \"\\n\".join([str(individual) for individual in self.individuals])\n",
    "\n",
    "    def __getitem__(self, item):\n",
    "        return self.individuals[item]\n",
    "\n",
    "    def get_best(self, n):\n",
    "\n",
    "        unique_sequences = set()\n",
    "        individuals = []\n",
    "        indexes = []\n",
    "\n",
    "\n",
    "        for i, individual in enumerate(self.individuals):\n",
    "            if tuple(individual.nodes) not in unique_sequences:\n",
    "                unique_sequences.add(tuple(individual.nodes))\n",
    "                individuals.append(individual)\n",
    "                indexes.append(i)\n",
    "\n",
    "        weights = [ind.weight for ind in individuals]\n",
    "        best_idx = np.argsort(weights)[-n:]\n",
    "\n",
    "        return [individuals[i] for i in best_idx]"
   ],
   "metadata": {
    "collapsed": false,
    "pycharm": {
     "name": "#%%\n"
    }
   }
  },
  {
   "cell_type": "code",
   "execution_count": 4,
   "outputs": [],
   "source": [
    "def create_individual(matrix: np.ndarray, weights: np.ndarray):\n",
    "\n",
    "    result = []\n",
    "    indexes = np.arange(0, matrix.shape[0], dtype=int)\n",
    "\n",
    "    while indexes.size > 0:\n",
    "        idx = np.random.randint(0, indexes.size)\n",
    "        result.append(indexes[idx])\n",
    "\n",
    "        tmp = np.where(matrix[idx] == 1)\n",
    "        indexes = np.delete(indexes, tmp, 0)\n",
    "        matrix = np.delete(np.delete(matrix, tmp, 0), tmp, 1)\n",
    "\n",
    "    return Individual(sorted(result), np.sum(weights[result]))\n",
    "\n",
    "\n",
    "def create_population(matrix: np.ndarray, weights: np.ndarray, population_size=20):\n",
    "\n",
    "    return Population([create_individual(matrix, weights) for _ in range(population_size)])"
   ],
   "metadata": {
    "collapsed": false,
    "pycharm": {
     "name": "#%%\n"
    }
   }
  },
  {
   "cell_type": "code",
   "execution_count": 5,
   "outputs": [],
   "source": [
    "def selection_by_weight(population: Population):\n",
    "\n",
    "    weights = population.weights\n",
    "\n",
    "    indexes = np.arange(0, population.size(), dtype=int)\n",
    "    np.random.shuffle(indexes)\n",
    "\n",
    "    result = []\n",
    "\n",
    "    for i in range(indexes.size // 2):\n",
    "        result.append(population[i] if weights[i] > weights[-i - 1] else population[-i - 1])\n",
    "\n",
    "    return Population(result)"
   ],
   "metadata": {
    "collapsed": false,
    "pycharm": {
     "name": "#%%\n"
    }
   }
  },
  {
   "cell_type": "code",
   "execution_count": 6,
   "outputs": [],
   "source": [
    "def parent_selection_out(population: Population, skip_p=0.):\n",
    "\n",
    "    result = []\n",
    "    first_parent_indexes = np.random.randint(0, population.size(), population.size() // 2)\n",
    "\n",
    "    for first_parent_index in first_parent_indexes:\n",
    "\n",
    "        max_diff = 0\n",
    "        max_diff_idx = 0\n",
    "\n",
    "        for second_parent_index in range(population.size()):\n",
    "            if first_parent_index == second_parent_index:\n",
    "                continue\n",
    "\n",
    "            if np.random.random() < skip_p:\n",
    "                continue\n",
    "\n",
    "            diff = len(population[first_parent_index].nodes.symmetric_difference(population[second_parent_index].nodes))\n",
    "\n",
    "            if diff > max_diff:\n",
    "                max_diff = diff\n",
    "                max_diff_idx = second_parent_index\n",
    "\n",
    "        result.append((population[first_parent_index], population[max_diff_idx]))\n",
    "\n",
    "    return result"
   ],
   "metadata": {
    "collapsed": false,
    "pycharm": {
     "name": "#%%\n"
    }
   }
  },
  {
   "cell_type": "code",
   "execution_count": 238,
   "outputs": [],
   "source": [
    "def truncation_greedy(matrix, weights):\n",
    "\n",
    "    matrix = np.copy(matrix)\n",
    "\n",
    "    if matrix[0, 0]:\n",
    "        matrix -= np.eye(matrix.shape[0], dtype=int)\n",
    "\n",
    "    deleted_indexes = []\n",
    "\n",
    "    while matrix.sum() > 0:\n",
    "\n",
    "        current_node = np.argmax(matrix.sum(axis=0) / (weights + 1e-5))\n",
    "        matrix[current_node] = 0\n",
    "        matrix[:, current_node] = 0\n",
    "        deleted_indexes.append(current_node)\n",
    "\n",
    "    return set(range(matrix.shape[0])).difference(set(deleted_indexes))\n",
    "\n",
    "\n",
    "def truncation_random(matrix, weights, temperature=1., alpha=1.):\n",
    "\n",
    "    matrix = np.copy(matrix)\n",
    "\n",
    "    if matrix[0, 0]:\n",
    "        matrix -= np.eye(matrix.shape[0], dtype=int)\n",
    "\n",
    "    deleted_indexes = []\n",
    "\n",
    "    indexes = np.arange(0, matrix.shape[0], dtype=int)\n",
    "\n",
    "    while matrix.sum() > 0:\n",
    "\n",
    "        coefs = matrix.sum(0) - alpha * weights\n",
    "        p = np.exp(coefs / temperature)\n",
    "        p /= np.sum(p)\n",
    "\n",
    "        current_node = np.random.choice(indexes, p=p)\n",
    "        matrix[current_node] = 0\n",
    "        matrix[:, current_node] = 0\n",
    "        deleted_indexes.append(current_node)\n",
    "\n",
    "    return set(indexes).difference(set(deleted_indexes))\n",
    "\n",
    "\n",
    "def expansion_greedy(indexes, matrix, weights):\n",
    "\n",
    "    candidates = set(np.arange(0, matrix.shape[0], dtype=int))\n",
    "    indexes_to_delete = set()\n",
    "\n",
    "    for idx in indexes:\n",
    "        indexes_to_delete.update(set(*np.where(matrix[idx] == 1)))\n",
    "\n",
    "    candidates = np.array(list(candidates.difference(indexes_to_delete)))\n",
    "\n",
    "    while len(candidates) > 0:\n",
    "        sub_matrix = matrix[candidates]\n",
    "        sub_matrix = sub_matrix[:, candidates]\n",
    "        sub_weights = weights[candidates]\n",
    "        current_node = np.argmin(sub_matrix.sum(axis=0) / (sub_weights + 1e-5))\n",
    "        indexes.append(candidates[current_node])\n",
    "        candidates = np.delete(candidates, np.where(sub_matrix[current_node] == 1), 0)\n",
    "\n",
    "    return indexes\n",
    "\n",
    "\n",
    "def expansion_random(indexes, matrix, weights, temperature, alpha):\n",
    "\n",
    "    candidates = set(np.arange(0, matrix.shape[0], dtype=int))\n",
    "    indexes_to_delete = set()\n",
    "\n",
    "    for idx in indexes:\n",
    "        indexes_to_delete.update(set(*np.where(matrix[idx] == 1)))\n",
    "\n",
    "    candidates = np.array(list(candidates.difference(indexes_to_delete)))\n",
    "\n",
    "    while len(candidates) > 0:\n",
    "        sub_matrix = matrix[candidates]\n",
    "        sub_matrix = sub_matrix[:, candidates]\n",
    "        sub_weights = weights[candidates]\n",
    "\n",
    "        coefs = alpha * sub_weights - sub_matrix.sum(axis=0)\n",
    "        p = np.exp(coefs / temperature)\n",
    "        p /= np.sum(p)\n",
    "\n",
    "        current_node = np.random.choice(np.arange(0, sub_matrix.shape[0], dtype=int), p=p)\n",
    "        indexes.append(candidates[current_node])\n",
    "        candidates = np.delete(candidates, np.where(sub_matrix[current_node] == 1), 0)\n",
    "\n",
    "    return indexes\n",
    "\n",
    "\n",
    "def mutation(nodes_list, max_node_idx):\n",
    "    node_to_add = np.random.choice(list(set(range(max_node_idx)).difference(set(nodes_list))), replace=False)\n",
    "    node_to_delete = np.random.randint(0, len(nodes_list), np.random.randint(0, 5))\n",
    "\n",
    "    nodes_list = list(np.delete(nodes_list, node_to_delete, 0))\n",
    "    nodes_list.append(node_to_add)\n",
    "\n",
    "    return nodes_list\n",
    "\n",
    "\n",
    "def breed(lhs: Individual, rhs: Individual, matrix: np.ndarray, weights: np.ndarray, mutation_p=0.1):\n",
    "\n",
    "    all_nodes = list(lhs.nodes.union(rhs.nodes))\n",
    "\n",
    "    if np.random.random() < mutation_p:\n",
    "        all_nodes = mutation(all_nodes, matrix.shape[0])\n",
    "\n",
    "    sub_matrix = matrix[all_nodes]\n",
    "    sub_matrix = sub_matrix[:, all_nodes]\n",
    "\n",
    "    sub_weights = weights[all_nodes]\n",
    "\n",
    "    truncated = np.array(all_nodes)[list(truncation_random(sub_matrix, sub_weights, 2., 0.5))]\n",
    "\n",
    "    expanded_nodes = expansion_random(list(truncated), matrix, weights, 2., 0.5)\n",
    "\n",
    "    return Individual(expanded_nodes, np.sum(weights[expanded_nodes]))\n",
    "\n",
    "\n",
    "def breed_all_parents(parents, matrix, weights, mutation_p=0.1):\n",
    "\n",
    "    result = []\n",
    "    for lhs, rhs in parents:\n",
    "        result.append(breed(lhs, rhs, matrix, weights, mutation_p))\n",
    "\n",
    "    return result"
   ],
   "metadata": {
    "collapsed": false,
    "pycharm": {
     "name": "#%%\n"
    }
   }
  },
  {
   "cell_type": "code",
   "execution_count": 239,
   "outputs": [],
   "source": [
    "def genetic_algorithm(matrix, weights, population_size=20, keep_best=5, mutation_p=0.1, skip_parent_p=0.):\n",
    "\n",
    "    population = create_population(matrix, weights, population_size)\n",
    "\n",
    "    no_change = 0\n",
    "\n",
    "    unique_bodies = set()\n",
    "    top_scores_heap = []\n",
    "\n",
    "    while no_change < 10:\n",
    "        selected_population = selection_by_weight(population)\n",
    "        parents = parent_selection_out(population, skip_parent_p)\n",
    "        children = breed_all_parents(parents, matrix, weights, mutation_p)\n",
    "\n",
    "        for child in children:\n",
    "            selected_population.add_individual(child)\n",
    "\n",
    "        population = selected_population\n",
    "\n",
    "        previous_top_three = copy.deepcopy(top_scores_heap)\n",
    "\n",
    "        for individual in population.individuals:\n",
    "            if tuple(individual.nodes) not in unique_bodies:\n",
    "                unique_bodies.add(tuple(individual.nodes))\n",
    "                if len(top_scores_heap) < keep_best:\n",
    "                    heapq.heappush(top_scores_heap, individual)\n",
    "                else:\n",
    "                    heapq.heappushpop(top_scores_heap, individual)\n",
    "\n",
    "        top_scores_heap.sort(reverse=False)\n",
    "\n",
    "        if previous_top_three == top_scores_heap:\n",
    "            no_change += 1\n",
    "        else:\n",
    "            no_change = 0\n",
    "\n",
    "    return top_scores_heap\n"
   ],
   "metadata": {
    "collapsed": false,
    "pycharm": {
     "name": "#%%\n"
    }
   }
  },
  {
   "cell_type": "code",
   "execution_count": 273,
   "outputs": [],
   "source": [
    "compatibility_matrix = np.array([\n",
    "    [0, 1, 0, 1, 1, 1, 1, 1, 1, 1, 1, 1, 1, 1, 1, 0, 1, 1, 1, 1, 1, 1, 1, 1, 1, 1, 1, 1],\n",
    "    [0, 0, 1, 1, 1, 1, 1, 1, 1, 1, 1, 1, 1, 1, 1, 1, 1, 1, 1, 1, 1, 1, 0, 1, 1, 0, 1, 1],\n",
    "    [0, 0, 0, 1, 1, 1, 1, 1, 1, 1, 1, 1, 1, 1, 1, 1, 1, 1, 1, 1, 1, 1, 1, 1, 1, 1, 1, 1],\n",
    "    [0, 0, 0, 0, 1, 1, 1, 0, 1, 1, 1, 1, 1, 1, 1, 1, 1, 1, 1, 1, 1, 1, 1, 1, 1, 1, 1, 1],\n",
    "    [0, 0, 0, 0, 0, 1, 1, 1, 1, 1, 1, 1, 1, 1, 1, 1, 1, 1, 1, 1, 1, 1, 1, 1, 1, 1, 1, 1],\n",
    "    [0, 0, 0, 0, 0, 0, 1, 1, 1, 1, 1, 1, 1, 1, 1, 1, 1, 1, 1, 1, 1, 1, 1, 1, 1, 1, 1, 1],\n",
    "    [0, 0, 0, 0, 0, 0, 0, 1, 1, 1, 1, 1, 1, 1, 1, 1, 1, 0, 1, 1, 1, 1, 0, 1, 1, 1, 1, 1],\n",
    "    [0, 0, 0, 0, 0, 0, 0, 0, 1, 1, 1, 1, 1, 1, 1, 1, 1, 1, 1, 1, 1, 1, 1, 1, 1, 0, 1, 1],\n",
    "    [0, 0, 0, 0, 0, 0, 0, 0, 0, 1, 0, 1, 1, 1, 1, 1, 0, 1, 1, 1, 1, 1, 1, 1, 1, 1, 1, 1],\n",
    "    [0, 0, 0, 0, 0, 0, 0, 0, 0, 0, 1, 1, 1, 1, 1, 1, 1, 0, 1, 1, 1, 1, 1, 1, 1, 1, 1, 1],\n",
    "    [0, 0, 0, 0, 0, 0, 0, 0, 0, 0, 0, 1, 1, 1, 0, 1, 1, 1, 1, 1, 1, 1, 1, 1, 1, 1, 1, 1],\n",
    "    [0, 0, 0, 0, 0, 0, 0, 0, 0, 0, 0, 0, 1, 1, 1, 1, 1, 1, 1, 1, 1, 1, 1, 1, 1, 1, 1, 1],\n",
    "    [0, 0, 0, 0, 0, 0, 0, 0, 0, 0, 0, 0, 0, 1, 1, 1, 1, 1, 1, 1, 1, 1, 1, 1, 1, 1, 1, 1],\n",
    "    [0, 0, 0, 0, 0, 0, 0, 0, 0, 0, 0, 0, 0, 0, 1, 1, 1, 1, 1, 1, 1, 1, 1, 0, 1, 1, 1, 1],\n",
    "    [0, 0, 0, 0, 0, 0, 0, 0, 0, 0, 0, 0, 0, 0, 0, 1, 1, 1, 1, 1, 0, 1, 1, 1, 1, 1, 1, 1],\n",
    "    [0, 0, 0, 0, 0, 0, 0, 0, 0, 0, 0, 0, 0, 0, 0, 0, 1, 1, 1, 1, 1, 0, 1, 1, 1, 1, 1, 1],\n",
    "    [0, 0, 0, 0, 0, 0, 0, 0, 0, 0, 0, 0, 0, 0, 0, 0, 0, 0, 1, 1, 0, 1, 1, 1, 1, 1, 1, 1],\n",
    "    [0, 0, 0, 0, 0, 0, 0, 0, 0, 0, 0, 0, 0, 0, 0, 0, 0, 0, 1, 1, 1, 0, 1, 1, 1, 1, 1, 0],\n",
    "    [0, 0, 0, 0, 0, 0, 0, 0, 0, 0, 0, 0, 0, 0, 0, 0, 0, 0, 0, 1, 1, 1, 1, 1, 1, 1, 1, 1],\n",
    "    [0, 0, 0, 0, 0, 0, 0, 0, 0, 0, 0, 0, 0, 0, 0, 0, 0, 0, 0, 0, 1, 1, 1, 1, 1, 1, 1, 1],\n",
    "    [0, 0, 0, 0, 0, 0, 0, 0, 0, 0, 0, 0, 0, 0, 0, 0, 0, 0, 0, 0, 0, 1, 1, 1, 1, 1, 0, 1],\n",
    "    [0, 0, 0, 0, 0, 0, 0, 0, 0, 0, 0, 0, 0, 0, 0, 0, 0, 0, 0, 0, 0, 0, 1, 1, 1, 1, 1, 1],\n",
    "    [0, 0, 0, 0, 0, 0, 0, 0, 0, 0, 0, 0, 0, 0, 0, 0, 0, 0, 0, 0, 0, 0, 0, 1, 1, 1, 1, 1],\n",
    "    [0, 0, 0, 0, 0, 0, 0, 0, 0, 0, 0, 0, 0, 0, 0, 0, 0, 0, 0, 0, 0, 0, 0, 0, 1, 1, 1, 1],\n",
    "    [0, 0, 0, 0, 0, 0, 0, 0, 0, 0, 0, 0, 0, 0, 0, 0, 0, 0, 0, 0, 0, 0, 0, 0, 0, 1, 1, 1],\n",
    "    [0, 0, 0, 0, 0, 0, 0, 0, 0, 0, 0, 0, 0, 0, 0, 0, 0, 0, 0, 0, 0, 0, 0, 0, 0, 0, 1, 1],\n",
    "    [0, 0, 0, 0, 0, 0, 0, 0, 0, 0, 0, 0, 0, 0, 0, 0, 0, 0, 0, 0, 0, 0, 0, 0, 0, 0, 0, 1],\n",
    "    [0, 0, 0, 0, 0, 0, 0, 0, 0, 0, 0, 0, 0, 0, 0, 0, 0, 0, 0, 0, 0, 0, 0, 0, 0, 0, 0, 0],\n",
    "])\n",
    "\n",
    "adjacency_matrix = 1 - compatibility_matrix - compatibility_matrix.T\n",
    "weights = np.array([6.7871, 0.4965, 0.5813, 6.3638, 7.7534, 6.7388, 2.1945, 5.7203, 2.5396, 0.039, 12.3052, 5.3397, 0.7031, 4.5140, 1.4971, 5.8530, 1.8569, 3.5543, 1.9219,11.8509, 2.2925, 5.1243, 9.2748, 2.9068, 5.4177, 3.3817, 3.5976, 0.5599])"
   ],
   "metadata": {
    "collapsed": false,
    "pycharm": {
     "name": "#%%\n"
    }
   }
  },
  {
   "cell_type": "code",
   "execution_count": 278,
   "outputs": [
    {
     "data": {
      "text/plain": "[{0, 3, 4, 5, 10, 11, 12, 13, 17, 18, 19, 22, 24, 25, 26}, weight: 89.50399999999999,\n {0, 4, 5, 7, 9, 10, 11, 12, 13, 16, 18, 19, 21, 22, 24, 26, 27}, weight: 89.5046,\n {0, 3, 4, 5, 9, 10, 11, 12, 13, 18, 19, 20, 21, 22, 24, 25, 27}, weight: 90.36779999999999,\n {0, 3, 4, 5, 9, 10, 11, 12, 16, 18, 19, 21, 22, 23, 24, 25, 26, 27}, weight: 91.92259999999999,\n {0, 3, 4, 5, 9, 10, 11, 12, 13, 16, 18, 19, 21, 22, 24, 25, 26, 27}, weight: 93.5298]"
     },
     "execution_count": 278,
     "metadata": {},
     "output_type": "execute_result"
    }
   ],
   "source": [
    "genetic_algorithm(adjacency_matrix, weights, 10, keep_best=5, mutation_p=0.4, skip_parent_p=0.)"
   ],
   "metadata": {
    "collapsed": false,
    "pycharm": {
     "name": "#%%\n"
    }
   }
  },
  {
   "cell_type": "code",
   "execution_count": 271,
   "outputs": [
    {
     "name": "stdout",
     "output_type": "stream",
     "text": [
      "81.2 ms ± 5.43 ms per loop (mean ± std. dev. of 7 runs, 10 loops each)\n"
     ]
    }
   ],
   "source": [
    "%%timeit\n",
    "\n",
    "genetic_algorithm(adjacency_matrix, weights, 10, keep_best=5, mutation_p=0.4, skip_parent_p=0.)"
   ],
   "metadata": {
    "collapsed": false,
    "pycharm": {
     "name": "#%%\n"
    }
   }
  },
  {
   "cell_type": "code",
   "execution_count": 158,
   "outputs": [
    {
     "data": {
      "text/plain": "array([[1, 1, 0, 0, 0, 0, 1, 1],\n       [1, 1, 0, 0, 0, 1, 1, 0],\n       [0, 0, 1, 0, 0, 0, 1, 0],\n       [0, 0, 0, 1, 1, 0, 1, 0],\n       [0, 0, 0, 1, 1, 1, 0, 0],\n       [0, 1, 0, 0, 1, 1, 0, 0],\n       [1, 1, 1, 1, 0, 0, 1, 0],\n       [1, 0, 0, 0, 0, 0, 0, 1]])"
     },
     "execution_count": 158,
     "metadata": {},
     "output_type": "execute_result"
    }
   ],
   "source": [
    "adjacency_matrix = np.array([\n",
    "    [0, 1, 0, 0, 0, 0, 1, 1],\n",
    "    [1, 0, 0, 0, 0, 1, 1, 0],\n",
    "    [0, 0, 0, 0, 0, 0, 1, 0],\n",
    "    [0, 0, 0, 0, 1, 0, 1, 0],\n",
    "    [0, 0, 0, 1, 0, 1, 0, 0],\n",
    "    [0, 1, 0, 0, 1, 0, 0, 0],\n",
    "    [1, 1, 1, 1, 0, 0, 0, 0],\n",
    "    [1, 0, 0, 0, 0, 0, 0, 0],\n",
    "])\n",
    "tmp = np.arange(0, adjacency_matrix.shape[0], dtype=int)\n",
    "adjacency_matrix[tmp, tmp] = 1\n",
    "adjacency_matrix"
   ],
   "metadata": {
    "collapsed": false,
    "pycharm": {
     "name": "#%%\n"
    }
   }
  },
  {
   "cell_type": "code",
   "execution_count": 159,
   "outputs": [],
   "source": [
    "weights = np.array([1.2, 2, 4, 2, 1.5, 1.5, 8.9, 5])"
   ],
   "metadata": {
    "collapsed": false,
    "pycharm": {
     "name": "#%%\n"
    }
   }
  },
  {
   "cell_type": "code",
   "execution_count": 214,
   "outputs": [
    {
     "data": {
      "text/plain": "{3}"
     },
     "execution_count": 214,
     "metadata": {},
     "output_type": "execute_result"
    }
   ],
   "source": [
    "truncated = truncation_random(matrix=adjacency_matrix, weights=weights, temperature=2., alpha=0.5)\n",
    "truncated"
   ],
   "metadata": {
    "collapsed": false,
    "pycharm": {
     "name": "#%%\n"
    }
   }
  },
  {
   "cell_type": "code",
   "execution_count": 237,
   "outputs": [
    {
     "data": {
      "text/plain": "[3, 2, 0, 5]"
     },
     "execution_count": 237,
     "metadata": {},
     "output_type": "execute_result"
    }
   ],
   "source": [
    "expanded_nodes = expansion_random(list(truncated), adjacency_matrix, weights, 3, 0.5)\n",
    "expanded_nodes"
   ],
   "metadata": {
    "collapsed": false,
    "pycharm": {
     "name": "#%%\n"
    }
   }
  },
  {
   "cell_type": "code",
   "execution_count": null,
   "outputs": [],
   "source": [],
   "metadata": {
    "collapsed": false,
    "pycharm": {
     "name": "#%%\n"
    }
   }
  }
 ],
 "metadata": {
  "kernelspec": {
   "display_name": "Python 3",
   "language": "python",
   "name": "python3"
  },
  "language_info": {
   "codemirror_mode": {
    "name": "ipython",
    "version": 2
   },
   "file_extension": ".py",
   "mimetype": "text/x-python",
   "name": "python",
   "nbconvert_exporter": "python",
   "pygments_lexer": "ipython2",
   "version": "2.7.6"
  }
 },
 "nbformat": 4,
 "nbformat_minor": 0
}