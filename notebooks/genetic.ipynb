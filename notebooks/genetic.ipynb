{
 "cells": [
  {
   "cell_type": "code",
   "execution_count": 28,
   "outputs": [],
   "source": [
    "import heapq\n",
    "import time\n",
    "import json\n",
    "from tqdm import tqdm\n",
    "import numpy as np\n",
    "import copy\n",
    "from matplotlib import pyplot as plt"
   ],
   "metadata": {
    "collapsed": false,
    "pycharm": {
     "name": "#%%\n"
    }
   }
  },
  {
   "cell_type": "code",
   "execution_count": 2,
   "outputs": [
    {
     "name": "stdout",
     "output_type": "stream",
     "text": [
      "{'no_change_stop': 8, 'population_size': 10, 'keep_best': 5, 'selection_config': {'method': 'random', 'softmax': 1, 'temperature': 2}, 'parent_selection_config': {'method': 'outbreeding', 'skip_parent_probability': 0.2}, 'truncation_config': {'method': 'random', 'softmax': 1, 'temperature': 2, 'alpha': 0.5}, 'expansion_config': {'method': 'random', 'softmax': 1, 'temperature': 2, 'alpha': 0.5}, 'mutation_config': {'mutation_probability': 0.5, 'mutation_strength': 0.1}}\n"
     ]
    }
   ],
   "source": [
    "with open(\"config.json\", \"r\") as file:\n",
    "    config = json.load(file)\n",
    "\n",
    "print(config)"
   ],
   "metadata": {
    "collapsed": false,
    "pycharm": {
     "name": "#%%\n"
    }
   }
  },
  {
   "cell_type": "code",
   "execution_count": 3,
   "outputs": [],
   "source": [
    "class Individual:\n",
    "    def __init__(self, nodes, weight):\n",
    "        self.nodes = set(nodes)\n",
    "        self.weight = weight\n",
    "\n",
    "    def __str__(self):\n",
    "        return f\"{self.nodes}, weight: {self.weight}\"\n",
    "\n",
    "    def __repr__(self):\n",
    "        return f\"{self.nodes}, weight: {self.weight}\"\n",
    "\n",
    "    def __eq__(self, other):\n",
    "        return self.nodes == other.nodes\n",
    "\n",
    "    def __lt__(self, other):\n",
    "        return self.weight < other.weight\n",
    "\n",
    "    def __hash__(self):\n",
    "        return hash(tuple(self.nodes))\n"
   ],
   "metadata": {
    "collapsed": false,
    "pycharm": {
     "name": "#%%\n"
    }
   }
  },
  {
   "cell_type": "code",
   "execution_count": 4,
   "outputs": [],
   "source": [
    "class Population:\n",
    "    def __init__(self, individuals):\n",
    "        self.individuals = individuals\n",
    "        self.weights = np.zeros(len(individuals))\n",
    "        self.total_weight = 0\n",
    "        for i, individual in enumerate(individuals):\n",
    "            self.weights[i] = individual.weight\n",
    "            self.total_weight += individual.weight\n",
    "\n",
    "    def add_individual(self, individual):\n",
    "        self.individuals.append(individual)\n",
    "        self.total_weight += individual.weight\n",
    "        self.weights = np.append(self.weights, individual.weight)\n",
    "\n",
    "    def size(self):\n",
    "        return len(self.individuals)\n",
    "\n",
    "    def __repr__(self):\n",
    "        return \"\\n\".join([str(individual) for individual in self.individuals])\n",
    "\n",
    "    def __getitem__(self, item):\n",
    "        return self.individuals[item]\n",
    "\n",
    "    def get_best(self, n):\n",
    "\n",
    "        unique_sequences = set()\n",
    "        individuals = []\n",
    "        indexes = []\n",
    "\n",
    "        for i, individual in enumerate(self.individuals):\n",
    "            if tuple(individual.nodes) not in unique_sequences:\n",
    "                unique_sequences.add(tuple(individual.nodes))\n",
    "                individuals.append(individual)\n",
    "                indexes.append(i)\n",
    "\n",
    "        weights = [ind.weight for ind in individuals]\n",
    "        best_idx = np.argsort(weights)[-n:]\n",
    "\n",
    "        return [individuals[i] for i in best_idx]"
   ],
   "metadata": {
    "collapsed": false,
    "pycharm": {
     "name": "#%%\n"
    }
   }
  },
  {
   "cell_type": "code",
   "execution_count": 5,
   "outputs": [],
   "source": [
    "class ConfigParser:\n",
    "\n",
    "    def __init__(self, config):\n",
    "        self.config = config\n",
    "\n",
    "    def get_selection_function(self):\n",
    "        selection_function_config = self.config[\"selection_config\"]\n",
    "        if selection_function_config[\"method\"] == \"tournament\":\n",
    "            return selection_tournament\n",
    "        elif selection_function_config[\"method\"] == \"random\":\n",
    "            return lambda x: selection_random(x, selection_function_config[\"softmax\"],\n",
    "                                              selection_function_config[\"temperature\"])\n",
    "        elif selection_function_config[\"method\"] == \"sigma_truncation\":\n",
    "            return selection_sigma_truncation\n",
    "        else:\n",
    "            raise ValueError(f\"Unknown selection method: {selection_function_config['method']}\")\n",
    "\n",
    "    def get_parent_selection_function(self):\n",
    "        parent_selection_function_config = self.config[\"parent_selection_config\"]\n",
    "        if parent_selection_function_config[\"method\"] == \"panmixia\":\n",
    "            return parent_selection_panmixia\n",
    "        elif parent_selection_function_config[\"method\"] == \"inbreeding\":\n",
    "            return lambda x: parent_selection_inbreeding(x, parent_selection_function_config[\"skip_parent_probability\"])\n",
    "        elif parent_selection_function_config[\"method\"] == \"outbreeding\":\n",
    "            return lambda x: parent_selection_outbreeding(x,\n",
    "                                                          parent_selection_function_config[\"skip_parent_probability\"])\n",
    "        else:\n",
    "            raise ValueError(f\"Unknown parent selection method: {parent_selection_function_config['method']}\")\n",
    "\n",
    "    def get_truncation_function(self):\n",
    "        truncation_function_config = self.config[\"truncation_config\"]\n",
    "        if truncation_function_config[\"method\"] == \"greedy\":\n",
    "            return truncation_greedy\n",
    "        elif truncation_function_config[\"method\"] == \"random\":\n",
    "            return lambda x, y: truncation_random(x, y,\n",
    "                                                  truncation_function_config[\"softmax\"],\n",
    "                                                  truncation_function_config[\"temperature\"],\n",
    "                                                  truncation_function_config[\"alpha\"])\n",
    "        else:\n",
    "            raise ValueError(f\"Unknown truncation method: {truncation_function_config['method']}\")\n",
    "\n",
    "    def get_expansion_function(self):\n",
    "        expansion_function_config = self.config[\"expansion_config\"]\n",
    "        if expansion_function_config[\"method\"] == \"greedy\":\n",
    "            return expansion_greedy\n",
    "        elif expansion_function_config[\"method\"] == \"random\":\n",
    "            return lambda x, y, z: expansion_random(x, y, z,\n",
    "                                                    expansion_function_config[\"softmax\"],\n",
    "                                                    expansion_function_config[\"temperature\"],\n",
    "                                                    expansion_function_config[\"alpha\"])\n",
    "        else:\n",
    "            raise ValueError(f\"Unknown truncation method: {expansion_function_config['method']}\")\n",
    "\n",
    "    def get_mutation_function(self):\n",
    "        mutation_function_config = self.config[\"mutation_config\"]\n",
    "        return lambda x, y: mutation(x, y, mutation_function_config[\"mutation_probability\"], mutation_function_config[\"mutation_strength\"])\n"
   ],
   "metadata": {
    "collapsed": false,
    "pycharm": {
     "name": "#%%\n"
    }
   }
  },
  {
   "cell_type": "code",
   "execution_count": 6,
   "outputs": [],
   "source": [
    "def create_individual(matrix: np.ndarray, weights: np.ndarray):\n",
    "    result = []\n",
    "    indexes = np.arange(0, matrix.shape[0], dtype=int)\n",
    "\n",
    "    while indexes.size > 0:\n",
    "        idx = np.random.randint(0, indexes.size)\n",
    "        result.append(indexes[idx])\n",
    "\n",
    "        tmp = np.where(matrix[idx] == 1)\n",
    "        indexes = np.delete(indexes, tmp, 0)\n",
    "        matrix = np.delete(np.delete(matrix, tmp, 0), tmp, 1)\n",
    "\n",
    "    return Individual(sorted(result), np.sum(weights[result]))\n",
    "\n",
    "\n",
    "def create_population(matrix: np.ndarray, weights: np.ndarray, population_size=20):\n",
    "    return Population([create_individual(matrix, weights) for _ in range(population_size)])"
   ],
   "metadata": {
    "collapsed": false,
    "pycharm": {
     "name": "#%%\n"
    }
   }
  },
  {
   "cell_type": "code",
   "execution_count": 7,
   "outputs": [],
   "source": [
    "def softmax(x, temperature=1.):\n",
    "    tmp = np.exp(x / temperature)\n",
    "    return tmp / np.sum(tmp)\n",
    "\n",
    "\n",
    "def selection_tournament(population: Population):\n",
    "    weights = population.weights\n",
    "\n",
    "    indexes = np.arange(0, population.size(), dtype=int)\n",
    "    np.random.shuffle(indexes)\n",
    "\n",
    "    result = []\n",
    "\n",
    "    for i in range(indexes.size // 2):\n",
    "        result.append(population[i] if weights[i] > weights[-i - 1] else population[-i - 1])\n",
    "\n",
    "    return Population(result)\n",
    "\n",
    "\n",
    "def selection_random(population: Population, use_softmax=True, temperature=1.):\n",
    "    weights = population.weights\n",
    "\n",
    "    if use_softmax:\n",
    "        p = softmax(weights, temperature)\n",
    "    else:\n",
    "        p = weights / np.sum(weights)\n",
    "\n",
    "    result = np.random.choice(population.individuals, population.size() // 2, replace=False, p=p)\n",
    "\n",
    "    return Population(list(result))\n",
    "\n",
    "\n",
    "def selection_sigma_truncation(population):\n",
    "    weights = population.weights\n",
    "\n",
    "    mean = np.mean(weights)\n",
    "    std = np.std(weights)\n",
    "\n",
    "    F = weights.max() + (weights - mean) / (2 * std + 1e-5)\n",
    "\n",
    "    p = F / np.sum(F)\n",
    "\n",
    "    result = np.random.choice(population.individuals, population.size() // 2, replace=False, p=p)\n",
    "\n",
    "    return Population(list(result))\n"
   ],
   "metadata": {
    "collapsed": false,
    "pycharm": {
     "name": "#%%\n"
    }
   }
  },
  {
   "cell_type": "code",
   "execution_count": 55,
   "outputs": [],
   "source": [
    "def parent_selection_panmixia(population):\n",
    "    result = []\n",
    "\n",
    "    indexes = np.arange(0, population.size(), dtype=int)\n",
    "\n",
    "    for _ in range(population.size()):\n",
    "        first_parent_index, second_parent_index = np.random.choice(indexes, 2, replace=False)\n",
    "        result.append((population[first_parent_index], population[second_parent_index]))\n",
    "\n",
    "    return result\n",
    "\n",
    "\n",
    "def parent_selection_inbreeding(population: Population, skip_p=0.):\n",
    "    result = []\n",
    "    first_parent_indexes = np.random.randint(0, population.size(), population.size())\n",
    "\n",
    "    for first_parent_index in first_parent_indexes:\n",
    "\n",
    "        min_diff = 10000\n",
    "        min_diff_idx = 0\n",
    "\n",
    "        for second_parent_index in range(population.size()):\n",
    "            if first_parent_index == second_parent_index:\n",
    "                continue\n",
    "\n",
    "            if np.random.random() < skip_p:\n",
    "                continue\n",
    "\n",
    "            diff = len(population[first_parent_index].nodes.symmetric_difference(population[second_parent_index].nodes))\n",
    "\n",
    "            if diff < min_diff:\n",
    "                min_diff = diff\n",
    "                min_diff_idx = second_parent_index\n",
    "\n",
    "        result.append((population[first_parent_index], population[min_diff_idx]))\n",
    "\n",
    "    return result\n",
    "\n",
    "\n",
    "def parent_selection_outbreeding(population: Population, skip_p=0.):\n",
    "    result = []\n",
    "    first_parent_indexes = np.random.randint(0, population.size(), population.size())\n",
    "\n",
    "    for first_parent_index in first_parent_indexes:\n",
    "\n",
    "        max_diff = 0\n",
    "        max_diff_idx = 0\n",
    "\n",
    "        for second_parent_index in range(population.size()):\n",
    "            if first_parent_index == second_parent_index:\n",
    "                continue\n",
    "\n",
    "            if np.random.random() < skip_p:\n",
    "                continue\n",
    "\n",
    "            diff = len(population[first_parent_index].nodes.symmetric_difference(population[second_parent_index].nodes))\n",
    "\n",
    "            if diff > max_diff:\n",
    "                max_diff = diff\n",
    "                max_diff_idx = second_parent_index\n",
    "\n",
    "        result.append((population[first_parent_index], population[max_diff_idx]))\n",
    "\n",
    "    return result"
   ],
   "metadata": {
    "collapsed": false,
    "pycharm": {
     "name": "#%%\n"
    }
   }
  },
  {
   "cell_type": "code",
   "execution_count": 56,
   "outputs": [],
   "source": [
    "def truncation_greedy(matrix, weights):\n",
    "    matrix = np.copy(matrix)\n",
    "\n",
    "    if matrix[0, 0]:\n",
    "        matrix -= np.eye(matrix.shape[0], dtype=int)\n",
    "\n",
    "    deleted_indexes = []\n",
    "\n",
    "    while matrix.sum() > 0:\n",
    "        current_node = np.argmax(matrix.sum(axis=0) / (weights + 1e-5))\n",
    "        matrix[current_node] = 0\n",
    "        matrix[:, current_node] = 0\n",
    "        deleted_indexes.append(current_node)\n",
    "\n",
    "    return set(range(matrix.shape[0])).difference(set(deleted_indexes))\n",
    "\n",
    "\n",
    "def truncation_random(matrix, weights, use_softmax=True, temperature=1., alpha=1.):\n",
    "    matrix = np.copy(matrix)\n",
    "\n",
    "    if matrix[0, 0]:\n",
    "        matrix -= np.eye(matrix.shape[0], dtype=int)\n",
    "\n",
    "    deleted_indexes = []\n",
    "\n",
    "    indexes = np.arange(0, matrix.shape[0], dtype=int)\n",
    "\n",
    "    while matrix.sum() > 0:\n",
    "\n",
    "        coefs = matrix.sum(0) - alpha * weights\n",
    "\n",
    "        if use_softmax:\n",
    "            p = softmax(coefs, temperature)\n",
    "            current_node = np.random.choice(indexes, p=p)\n",
    "        else:\n",
    "            current_node = indexes[np.random.randint(0, indexes.size)]\n",
    "\n",
    "        matrix[current_node] = 0\n",
    "        matrix[:, current_node] = 0\n",
    "        deleted_indexes.append(current_node)\n",
    "\n",
    "    return set(indexes).difference(set(deleted_indexes))\n",
    "\n",
    "\n",
    "def expansion_greedy(indexes, matrix, weights):\n",
    "    candidates = set(np.arange(0, matrix.shape[0], dtype=int))\n",
    "    indexes_to_delete = set()\n",
    "\n",
    "    for idx in indexes:\n",
    "        indexes_to_delete.update(set(*np.where(matrix[idx] == 1)))\n",
    "\n",
    "    candidates = np.array(list(candidates.difference(indexes_to_delete)))\n",
    "\n",
    "    while len(candidates) > 0:\n",
    "        sub_matrix = matrix[candidates]\n",
    "        sub_matrix = sub_matrix[:, candidates]\n",
    "        sub_weights = weights[candidates]\n",
    "        current_node = np.argmin(sub_matrix.sum(axis=0) / (sub_weights + 1e-5))\n",
    "        indexes.append(candidates[current_node])\n",
    "        candidates = np.delete(candidates, np.where(sub_matrix[current_node] == 1), 0)\n",
    "\n",
    "    return indexes\n",
    "\n",
    "\n",
    "choice_time_expand = 0\n",
    "\n",
    "\n",
    "def expansion_random(indexes, matrix, weights, use_softmax=True, temperature=1., alpha=1.):\n",
    "    candidates = set(np.arange(0, matrix.shape[0], dtype=int))\n",
    "    indexes_to_delete = set()\n",
    "\n",
    "    for idx in indexes:\n",
    "        indexes_to_delete.update(set(*np.where(matrix[idx] == 1)))\n",
    "\n",
    "    candidates = np.array(list(candidates.difference(indexes_to_delete)))\n",
    "\n",
    "    while len(candidates) > 0:\n",
    "        sub_matrix = matrix[candidates]\n",
    "        sub_matrix = sub_matrix[:, candidates]\n",
    "        sub_weights = weights[candidates]\n",
    "\n",
    "        coefs = alpha * sub_weights - sub_matrix.sum(axis=0)\n",
    "\n",
    "        if use_softmax:\n",
    "            p = softmax(coefs, temperature)\n",
    "            current_node = np.random.choice(np.arange(0, sub_matrix.shape[0], dtype=int), p=p)\n",
    "        else:\n",
    "            current_node = np.random.randint(0, sub_matrix.shape[0])\n",
    "\n",
    "        indexes.append(candidates[current_node])\n",
    "        candidates = np.delete(candidates, np.where(sub_matrix[current_node] == 1), 0)\n",
    "\n",
    "    return indexes\n",
    "\n",
    "\n",
    "def mutation(nodes_list, max_node_idx, probability=0.1, strength=0.1):\n",
    "    if np.random.random() < probability:\n",
    "        return nodes_list\n",
    "\n",
    "    nodes_number_to_add = np.random.randint(0, np.ceil(max_node_idx * strength))\n",
    "    nodes_number_to_remove = np.random.randint(0, np.ceil(max_node_idx * strength))\n",
    "\n",
    "    nodes_not_included = list(set(range(max_node_idx)).difference(set(nodes_list)))\n",
    "    nodes_to_add = np.random.choice(nodes_not_included, replace=False,\n",
    "                                    size=min(nodes_number_to_add, len(nodes_not_included)))\n",
    "    nodes_list.extend(list(nodes_to_add))\n",
    "\n",
    "    np.random.shuffle(nodes_list)\n",
    "    nodes_list = list(nodes_list[nodes_number_to_remove:])\n",
    "\n",
    "    return nodes_list"
   ],
   "metadata": {
    "collapsed": false,
    "pycharm": {
     "name": "#%%\n"
    }
   }
  },
  {
   "cell_type": "code",
   "execution_count": 57,
   "outputs": [],
   "source": [
    "config_parser = ConfigParser(config)\n",
    "\n",
    "selection_function = config_parser.get_selection_function()\n",
    "parent_selection_function = config_parser.get_parent_selection_function()\n",
    "truncation_function = config_parser.get_truncation_function()\n",
    "expansion_function = config_parser.get_expansion_function()\n",
    "mutation_function = config_parser.get_mutation_function()"
   ],
   "metadata": {
    "collapsed": false,
    "pycharm": {
     "name": "#%%\n"
    }
   }
  },
  {
   "cell_type": "markdown",
   "source": [],
   "metadata": {
    "collapsed": false,
    "pycharm": {
     "name": "#%% md\n"
    }
   }
  },
  {
   "cell_type": "code",
   "execution_count": 58,
   "outputs": [],
   "source": [
    "def breed(lhs: Individual, rhs: Individual, matrix: np.ndarray, weights: np.ndarray):\n",
    "    all_nodes = list(lhs.nodes.union(rhs.nodes))\n",
    "\n",
    "    all_nodes = mutation_function(all_nodes, matrix.shape[0])\n",
    "\n",
    "    sub_matrix = matrix[all_nodes]\n",
    "    sub_matrix = sub_matrix[:, all_nodes]\n",
    "\n",
    "    sub_weights = weights[all_nodes]\n",
    "\n",
    "    truncated = np.array(all_nodes)[list(truncation_function(sub_matrix, sub_weights))]\n",
    "\n",
    "    expanded_nodes = expansion_function(list(truncated), matrix, weights)\n",
    "\n",
    "    return Individual(expanded_nodes, np.sum(weights[expanded_nodes]))\n",
    "\n",
    "\n",
    "def breed_all_parents(parents, matrix, weights):\n",
    "    result = []\n",
    "    for lhs, rhs in parents:\n",
    "        result.append(breed(lhs, rhs, matrix, weights))\n",
    "\n",
    "    return result"
   ],
   "metadata": {
    "collapsed": false,
    "pycharm": {
     "name": "#%%\n"
    }
   }
  },
  {
   "cell_type": "code",
   "execution_count": 59,
   "outputs": [],
   "source": [
    "def genetic_algorithm(matrix, weights):\n",
    "\n",
    "    population = create_population(matrix, weights, config[\"population_size\"])\n",
    "\n",
    "    no_change = 0\n",
    "\n",
    "    unique_bodies = set()\n",
    "    top_scores_heap = []\n",
    "\n",
    "    while no_change < config[\"no_change_stop\"]:\n",
    "        parents = parent_selection_function(population)\n",
    "        children = breed_all_parents(parents, matrix, weights)\n",
    "\n",
    "        for child in children:\n",
    "            population.add_individual(child)\n",
    "\n",
    "        population = selection_function(population)\n",
    "\n",
    "        print(population.size())\n",
    "\n",
    "        previous_top_three = copy.deepcopy(top_scores_heap)\n",
    "\n",
    "        for individual in population.individuals:\n",
    "            if tuple(individual.nodes) not in unique_bodies:\n",
    "                unique_bodies.add(tuple(individual.nodes))\n",
    "                if len(top_scores_heap) < config[\"keep_best\"]:\n",
    "                    heapq.heappush(top_scores_heap, individual)\n",
    "                else:\n",
    "                    heapq.heappushpop(top_scores_heap, individual)\n",
    "\n",
    "        top_scores_heap.sort(reverse=False)\n",
    "\n",
    "        if previous_top_three == top_scores_heap:\n",
    "            no_change += 1\n",
    "        else:\n",
    "            no_change = 0\n",
    "\n",
    "    return top_scores_heap\n"
   ],
   "metadata": {
    "collapsed": false,
    "pycharm": {
     "name": "#%%\n"
    }
   }
  },
  {
   "cell_type": "code",
   "execution_count": 60,
   "outputs": [],
   "source": [
    "compatibility_matrix = np.array([\n",
    "    [0, 1, 0, 1, 1, 1, 1, 1, 1, 1, 1, 1, 1, 1, 1, 0, 1, 1, 1, 1, 1, 1, 1, 1, 1, 1, 1, 1],\n",
    "    [0, 0, 1, 1, 1, 1, 1, 1, 1, 1, 1, 1, 1, 1, 1, 1, 1, 1, 1, 1, 1, 1, 0, 1, 1, 0, 1, 1],\n",
    "    [0, 0, 0, 1, 1, 1, 1, 1, 1, 1, 1, 1, 1, 1, 1, 1, 1, 1, 1, 1, 1, 1, 1, 1, 1, 1, 1, 1],\n",
    "    [0, 0, 0, 0, 1, 1, 1, 0, 1, 1, 1, 1, 1, 1, 1, 1, 1, 1, 1, 1, 1, 1, 1, 1, 1, 1, 1, 1],\n",
    "    [0, 0, 0, 0, 0, 1, 1, 1, 1, 1, 1, 1, 1, 1, 1, 1, 1, 1, 1, 1, 1, 1, 1, 1, 1, 1, 1, 1],\n",
    "    [0, 0, 0, 0, 0, 0, 1, 1, 1, 1, 1, 1, 1, 1, 1, 1, 1, 1, 1, 1, 1, 1, 1, 1, 1, 1, 1, 1],\n",
    "    [0, 0, 0, 0, 0, 0, 0, 1, 1, 1, 1, 1, 1, 1, 1, 1, 1, 0, 1, 1, 1, 1, 0, 1, 1, 1, 1, 1],\n",
    "    [0, 0, 0, 0, 0, 0, 0, 0, 1, 1, 1, 1, 1, 1, 1, 1, 1, 1, 1, 1, 1, 1, 1, 1, 1, 0, 1, 1],\n",
    "    [0, 0, 0, 0, 0, 0, 0, 0, 0, 1, 0, 1, 1, 1, 1, 1, 0, 1, 1, 1, 1, 1, 1, 1, 1, 1, 1, 1],\n",
    "    [0, 0, 0, 0, 0, 0, 0, 0, 0, 0, 1, 1, 1, 1, 1, 1, 1, 0, 1, 1, 1, 1, 1, 1, 1, 1, 1, 1],\n",
    "    [0, 0, 0, 0, 0, 0, 0, 0, 0, 0, 0, 1, 1, 1, 0, 1, 1, 1, 1, 1, 1, 1, 1, 1, 1, 1, 1, 1],\n",
    "    [0, 0, 0, 0, 0, 0, 0, 0, 0, 0, 0, 0, 1, 1, 1, 1, 1, 1, 1, 1, 1, 1, 1, 1, 1, 1, 1, 1],\n",
    "    [0, 0, 0, 0, 0, 0, 0, 0, 0, 0, 0, 0, 0, 1, 1, 1, 1, 1, 1, 1, 1, 1, 1, 1, 1, 1, 1, 1],\n",
    "    [0, 0, 0, 0, 0, 0, 0, 0, 0, 0, 0, 0, 0, 0, 1, 1, 1, 1, 1, 1, 1, 1, 1, 0, 1, 1, 1, 1],\n",
    "    [0, 0, 0, 0, 0, 0, 0, 0, 0, 0, 0, 0, 0, 0, 0, 1, 1, 1, 1, 1, 0, 1, 1, 1, 1, 1, 1, 1],\n",
    "    [0, 0, 0, 0, 0, 0, 0, 0, 0, 0, 0, 0, 0, 0, 0, 0, 1, 1, 1, 1, 1, 0, 1, 1, 1, 1, 1, 1],\n",
    "    [0, 0, 0, 0, 0, 0, 0, 0, 0, 0, 0, 0, 0, 0, 0, 0, 0, 0, 1, 1, 0, 1, 1, 1, 1, 1, 1, 1],\n",
    "    [0, 0, 0, 0, 0, 0, 0, 0, 0, 0, 0, 0, 0, 0, 0, 0, 0, 0, 1, 1, 1, 0, 1, 1, 1, 1, 1, 0],\n",
    "    [0, 0, 0, 0, 0, 0, 0, 0, 0, 0, 0, 0, 0, 0, 0, 0, 0, 0, 0, 1, 1, 1, 1, 1, 1, 1, 1, 1],\n",
    "    [0, 0, 0, 0, 0, 0, 0, 0, 0, 0, 0, 0, 0, 0, 0, 0, 0, 0, 0, 0, 1, 1, 1, 1, 1, 1, 1, 1],\n",
    "    [0, 0, 0, 0, 0, 0, 0, 0, 0, 0, 0, 0, 0, 0, 0, 0, 0, 0, 0, 0, 0, 1, 1, 1, 1, 1, 0, 1],\n",
    "    [0, 0, 0, 0, 0, 0, 0, 0, 0, 0, 0, 0, 0, 0, 0, 0, 0, 0, 0, 0, 0, 0, 1, 1, 1, 1, 1, 1],\n",
    "    [0, 0, 0, 0, 0, 0, 0, 0, 0, 0, 0, 0, 0, 0, 0, 0, 0, 0, 0, 0, 0, 0, 0, 1, 1, 1, 1, 1],\n",
    "    [0, 0, 0, 0, 0, 0, 0, 0, 0, 0, 0, 0, 0, 0, 0, 0, 0, 0, 0, 0, 0, 0, 0, 0, 1, 1, 1, 1],\n",
    "    [0, 0, 0, 0, 0, 0, 0, 0, 0, 0, 0, 0, 0, 0, 0, 0, 0, 0, 0, 0, 0, 0, 0, 0, 0, 1, 1, 1],\n",
    "    [0, 0, 0, 0, 0, 0, 0, 0, 0, 0, 0, 0, 0, 0, 0, 0, 0, 0, 0, 0, 0, 0, 0, 0, 0, 0, 1, 1],\n",
    "    [0, 0, 0, 0, 0, 0, 0, 0, 0, 0, 0, 0, 0, 0, 0, 0, 0, 0, 0, 0, 0, 0, 0, 0, 0, 0, 0, 1],\n",
    "    [0, 0, 0, 0, 0, 0, 0, 0, 0, 0, 0, 0, 0, 0, 0, 0, 0, 0, 0, 0, 0, 0, 0, 0, 0, 0, 0, 0],\n",
    "])\n",
    "\n",
    "adjacency_matrix = 1 - compatibility_matrix - compatibility_matrix.T\n",
    "weights = np.array(\n",
    "    [6.7871, 0.4965, 0.5813, 6.3638, 7.7534, 6.7388, 2.1945, 5.7203, 2.5396, 0.039, 12.3052, 5.3397, 0.7031, 4.5140,\n",
    "     1.4971, 5.8530, 1.8569, 3.5543, 1.9219, 11.8509, 2.2925, 5.1243, 9.2748, 2.9068, 5.4177, 3.3817, 3.5976, 0.5599])"
   ],
   "metadata": {
    "collapsed": false,
    "pycharm": {
     "name": "#%%\n"
    }
   }
  },
  {
   "cell_type": "code",
   "execution_count": 61,
   "outputs": [
    {
     "name": "stdout",
     "output_type": "stream",
     "text": [
      "[[1 0 1 0 0 0 0 0 0 0 0 0 0 0 0 1 0 0 0 0 0 0 0 0 0 0 0 0]\n",
      " [0 1 0 0 0 0 0 0 0 0 0 0 0 0 0 0 0 0 0 0 0 0 1 0 0 1 0 0]\n",
      " [1 0 1 0 0 0 0 0 0 0 0 0 0 0 0 0 0 0 0 0 0 0 0 0 0 0 0 0]\n",
      " [0 0 0 1 0 0 0 1 0 0 0 0 0 0 0 0 0 0 0 0 0 0 0 0 0 0 0 0]\n",
      " [0 0 0 0 1 0 0 0 0 0 0 0 0 0 0 0 0 0 0 0 0 0 0 0 0 0 0 0]\n",
      " [0 0 0 0 0 1 0 0 0 0 0 0 0 0 0 0 0 0 0 0 0 0 0 0 0 0 0 0]\n",
      " [0 0 0 0 0 0 1 0 0 0 0 0 0 0 0 0 0 1 0 0 0 0 1 0 0 0 0 0]\n",
      " [0 0 0 1 0 0 0 1 0 0 0 0 0 0 0 0 0 0 0 0 0 0 0 0 0 1 0 0]\n",
      " [0 0 0 0 0 0 0 0 1 0 1 0 0 0 0 0 1 0 0 0 0 0 0 0 0 0 0 0]\n",
      " [0 0 0 0 0 0 0 0 0 1 0 0 0 0 0 0 0 1 0 0 0 0 0 0 0 0 0 0]\n",
      " [0 0 0 0 0 0 0 0 1 0 1 0 0 0 1 0 0 0 0 0 0 0 0 0 0 0 0 0]\n",
      " [0 0 0 0 0 0 0 0 0 0 0 1 0 0 0 0 0 0 0 0 0 0 0 0 0 0 0 0]\n",
      " [0 0 0 0 0 0 0 0 0 0 0 0 1 0 0 0 0 0 0 0 0 0 0 0 0 0 0 0]\n",
      " [0 0 0 0 0 0 0 0 0 0 0 0 0 1 0 0 0 0 0 0 0 0 0 1 0 0 0 0]\n",
      " [0 0 0 0 0 0 0 0 0 0 1 0 0 0 1 0 0 0 0 0 1 0 0 0 0 0 0 0]\n",
      " [1 0 0 0 0 0 0 0 0 0 0 0 0 0 0 1 0 0 0 0 0 1 0 0 0 0 0 0]\n",
      " [0 0 0 0 0 0 0 0 1 0 0 0 0 0 0 0 1 1 0 0 1 0 0 0 0 0 0 0]\n",
      " [0 0 0 0 0 0 1 0 0 1 0 0 0 0 0 0 1 1 0 0 0 1 0 0 0 0 0 1]\n",
      " [0 0 0 0 0 0 0 0 0 0 0 0 0 0 0 0 0 0 1 0 0 0 0 0 0 0 0 0]\n",
      " [0 0 0 0 0 0 0 0 0 0 0 0 0 0 0 0 0 0 0 1 0 0 0 0 0 0 0 0]\n",
      " [0 0 0 0 0 0 0 0 0 0 0 0 0 0 1 0 1 0 0 0 1 0 0 0 0 0 1 0]\n",
      " [0 0 0 0 0 0 0 0 0 0 0 0 0 0 0 1 0 1 0 0 0 1 0 0 0 0 0 0]\n",
      " [0 1 0 0 0 0 1 0 0 0 0 0 0 0 0 0 0 0 0 0 0 0 1 0 0 0 0 0]\n",
      " [0 0 0 0 0 0 0 0 0 0 0 0 0 1 0 0 0 0 0 0 0 0 0 1 0 0 0 0]\n",
      " [0 0 0 0 0 0 0 0 0 0 0 0 0 0 0 0 0 0 0 0 0 0 0 0 1 0 0 0]\n",
      " [0 1 0 0 0 0 0 1 0 0 0 0 0 0 0 0 0 0 0 0 0 0 0 0 0 1 0 0]\n",
      " [0 0 0 0 0 0 0 0 0 0 0 0 0 0 0 0 0 0 0 0 1 0 0 0 0 0 1 0]\n",
      " [0 0 0 0 0 0 0 0 0 0 0 0 0 0 0 0 0 1 0 0 0 0 0 0 0 0 0 1]]\n"
     ]
    }
   ],
   "source": [
    "print(adjacency_matrix)"
   ],
   "metadata": {
    "collapsed": false,
    "pycharm": {
     "name": "#%%\n"
    }
   }
  },
  {
   "cell_type": "code",
   "execution_count": 62,
   "outputs": [
    {
     "name": "stdout",
     "output_type": "stream",
     "text": [
      "40\n",
      "40\n",
      "40\n",
      "40\n",
      "40\n",
      "40\n",
      "40\n",
      "40\n",
      "40\n",
      "40\n",
      "40\n",
      "40\n",
      "40\n",
      "40\n",
      "40\n",
      "40\n"
     ]
    },
    {
     "data": {
      "text/plain": "[{2, 3, 4, 5, 9, 10, 11, 12, 13, 15, 16, 18, 19, 22, 24, 25, 26, 27}, weight: 88.05269999999999,\n {2, 3, 4, 5, 10, 11, 12, 13, 15, 17, 18, 19, 22, 24, 25, 26}, weight: 89.1512,\n {0, 3, 4, 5, 10, 11, 12, 13, 17, 18, 19, 22, 24, 25, 26}, weight: 89.50399999999998,\n {0, 3, 4, 5, 9, 10, 11, 12, 16, 18, 19, 21, 22, 23, 24, 25, 26, 27}, weight: 91.92259999999999,\n {0, 3, 4, 5, 9, 10, 11, 12, 13, 16, 18, 19, 21, 22, 24, 25, 26, 27}, weight: 93.5298]"
     },
     "execution_count": 62,
     "metadata": {},
     "output_type": "execute_result"
    }
   ],
   "source": [
    "genetic_algorithm(adjacency_matrix, weights)"
   ],
   "metadata": {
    "collapsed": false,
    "pycharm": {
     "name": "#%%\n"
    }
   }
  },
  {
   "cell_type": "code",
   "execution_count": 135,
   "outputs": [
    {
     "name": "stdout",
     "output_type": "stream",
     "text": [
      "87.5 ms ± 7.16 ms per loop (mean ± std. dev. of 7 runs, 10 loops each)\n"
     ]
    }
   ],
   "source": [
    "%%timeit\n",
    "\n",
    "genetic_algorithm(adjacency_matrix, weights)"
   ],
   "metadata": {
    "collapsed": false,
    "pycharm": {
     "name": "#%%\n"
    }
   }
  },
  {
   "cell_type": "code",
   "execution_count": null,
   "outputs": [],
   "source": [
    "test_matrix = [\n",
    "    np.array([\n",
    "        [0, 1, 0, 1, 1, 1, 1, 1, 1, 1, 1, 1, 1, 1, 1, 0, 1, 1, 1, 1, 1, 1, 1, 1, 1, 1, 1, 1],\n",
    "        [0, 0, 1, 1, 1, 1, 1, 1, 1, 1, 1, 1, 1, 1, 1, 1, 1, 1, 1, 1, 1, 1, 0, 1, 1, 0, 1, 1],\n",
    "        [0, 0, 0, 1, 1, 1, 1, 1, 1, 1, 1, 1, 1, 1, 1, 1, 1, 1, 1, 1, 1, 1, 1, 1, 1, 1, 1, 1],\n",
    "        [0, 0, 0, 0, 1, 1, 1, 0, 1, 1, 1, 1, 1, 1, 1, 1, 1, 1, 1, 1, 1, 1, 1, 1, 1, 1, 1, 1],\n",
    "        [0, 0, 0, 0, 0, 1, 1, 1, 1, 1, 1, 1, 1, 1, 1, 1, 1, 1, 1, 1, 1, 1, 1, 1, 1, 1, 1, 1],\n",
    "        [0, 0, 0, 0, 0, 0, 1, 1, 1, 1, 1, 1, 1, 1, 1, 1, 1, 1, 1, 1, 1, 1, 1, 1, 1, 1, 1, 1],\n",
    "        [0, 0, 0, 0, 0, 0, 0, 1, 1, 1, 1, 1, 1, 1, 1, 1, 1, 0, 1, 1, 1, 1, 0, 1, 1, 1, 1, 1],\n",
    "        [0, 0, 0, 0, 0, 0, 0, 0, 1, 1, 1, 1, 1, 1, 1, 1, 1, 1, 1, 1, 1, 1, 1, 1, 1, 0, 1, 1],\n",
    "        [0, 0, 0, 0, 0, 0, 0, 0, 0, 1, 0, 1, 1, 1, 1, 1, 0, 1, 1, 1, 1, 1, 1, 1, 1, 1, 1, 1],\n",
    "        [0, 0, 0, 0, 0, 0, 0, 0, 0, 0, 1, 1, 1, 1, 1, 1, 1, 0, 1, 1, 1, 1, 1, 1, 1, 1, 1, 1],\n",
    "        [0, 0, 0, 0, 0, 0, 0, 0, 0, 0, 0, 1, 1, 1, 0, 1, 1, 1, 1, 1, 1, 1, 1, 1, 1, 1, 1, 1],\n",
    "        [0, 0, 0, 0, 0, 0, 0, 0, 0, 0, 0, 0, 1, 1, 1, 1, 1, 1, 1, 1, 1, 1, 1, 1, 1, 1, 1, 1],\n",
    "        [0, 0, 0, 0, 0, 0, 0, 0, 0, 0, 0, 0, 0, 1, 1, 1, 1, 1, 1, 1, 1, 1, 1, 1, 1, 1, 1, 1],\n",
    "        [0, 0, 0, 0, 0, 0, 0, 0, 0, 0, 0, 0, 0, 0, 1, 1, 1, 1, 1, 1, 1, 1, 1, 0, 1, 1, 1, 1],\n",
    "        [0, 0, 0, 0, 0, 0, 0, 0, 0, 0, 0, 0, 0, 0, 0, 1, 1, 1, 1, 1, 0, 1, 1, 1, 1, 1, 1, 1],\n",
    "        [0, 0, 0, 0, 0, 0, 0, 0, 0, 0, 0, 0, 0, 0, 0, 0, 1, 1, 1, 1, 1, 0, 1, 1, 1, 1, 1, 1],\n",
    "        [0, 0, 0, 0, 0, 0, 0, 0, 0, 0, 0, 0, 0, 0, 0, 0, 0, 0, 1, 1, 0, 1, 1, 1, 1, 1, 1, 1],\n",
    "        [0, 0, 0, 0, 0, 0, 0, 0, 0, 0, 0, 0, 0, 0, 0, 0, 0, 0, 1, 1, 1, 0, 1, 1, 1, 1, 1, 0],\n",
    "        [0, 0, 0, 0, 0, 0, 0, 0, 0, 0, 0, 0, 0, 0, 0, 0, 0, 0, 0, 1, 1, 1, 1, 1, 1, 1, 1, 1],\n",
    "        [0, 0, 0, 0, 0, 0, 0, 0, 0, 0, 0, 0, 0, 0, 0, 0, 0, 0, 0, 0, 1, 1, 1, 1, 1, 1, 1, 1],\n",
    "        [0, 0, 0, 0, 0, 0, 0, 0, 0, 0, 0, 0, 0, 0, 0, 0, 0, 0, 0, 0, 0, 1, 1, 1, 1, 1, 0, 1],\n",
    "        [0, 0, 0, 0, 0, 0, 0, 0, 0, 0, 0, 0, 0, 0, 0, 0, 0, 0, 0, 0, 0, 0, 1, 1, 1, 1, 1, 1],\n",
    "        [0, 0, 0, 0, 0, 0, 0, 0, 0, 0, 0, 0, 0, 0, 0, 0, 0, 0, 0, 0, 0, 0, 0, 1, 1, 1, 1, 1],\n",
    "        [0, 0, 0, 0, 0, 0, 0, 0, 0, 0, 0, 0, 0, 0, 0, 0, 0, 0, 0, 0, 0, 0, 0, 0, 1, 1, 1, 1],\n",
    "        [0, 0, 0, 0, 0, 0, 0, 0, 0, 0, 0, 0, 0, 0, 0, 0, 0, 0, 0, 0, 0, 0, 0, 0, 0, 1, 1, 1],\n",
    "        [0, 0, 0, 0, 0, 0, 0, 0, 0, 0, 0, 0, 0, 0, 0, 0, 0, 0, 0, 0, 0, 0, 0, 0, 0, 0, 1, 1],\n",
    "        [0, 0, 0, 0, 0, 0, 0, 0, 0, 0, 0, 0, 0, 0, 0, 0, 0, 0, 0, 0, 0, 0, 0, 0, 0, 0, 0, 1],\n",
    "        [0, 0, 0, 0, 0, 0, 0, 0, 0, 0, 0, 0, 0, 0, 0, 0, 0, 0, 0, 0, 0, 0, 0, 0, 0, 0, 0, 0],\n",
    "    ]),\n",
    "\n",
    "]"
   ],
   "metadata": {
    "collapsed": false,
    "pycharm": {
     "name": "#%%\n"
    }
   }
  },
  {
   "cell_type": "code",
   "execution_count": 41,
   "outputs": [],
   "source": [
    "with open(\"examples_28.txt\", \"r\") as file:\n",
    "    data = file.read()\n"
   ],
   "metadata": {
    "collapsed": false,
    "pycharm": {
     "name": "#%%\n"
    }
   }
  },
  {
   "cell_type": "code",
   "execution_count": 42,
   "outputs": [],
   "source": [
    "weights_info = data.split(\"w =\")[1:]\n",
    "\n",
    "all_weights = []\n",
    "\n",
    "for weight_info in weights_info:\n",
    "    all_weights.append(weight_info.split(\"\\n\")[1])\n",
    "    all_weights[-1] = all_weights[-1].split()\n",
    "    all_weights[-1] = np.array(list(map(float, all_weights[-1])))"
   ],
   "metadata": {
    "collapsed": false,
    "pycharm": {
     "name": "#%%\n"
    }
   }
  },
  {
   "cell_type": "code",
   "execution_count": 43,
   "outputs": [],
   "source": [
    "matrixes_info = data.split(\"TH compatibility matrix:\")[1:]\n",
    "\n",
    "all_matrixes = []\n",
    "\n",
    "for matrix_info in matrixes_info:\n",
    "    all_matrixes.append(matrix_info.split(\"Complete search (recursion):\")[0])\n",
    "    all_matrixes[-1] = all_matrixes[-1].split(\"\\n\")[1:-2]\n",
    "    tmp = []\n",
    "    for line in all_matrixes[-1]:\n",
    "        tmp.append(list(map(int, line.split())))\n",
    "    all_matrixes[-1] = np.array(tmp)\n",
    "\n",
    "for i in range(len(all_matrixes)):\n",
    "    all_matrixes[i] = 1 - all_matrixes[i] - all_matrixes[i].T"
   ],
   "metadata": {
    "collapsed": false,
    "pycharm": {
     "name": "#%%\n"
    }
   }
  },
  {
   "cell_type": "code",
   "execution_count": 44,
   "outputs": [],
   "source": [
    "answers_info = data.split(\"Complete search (recursion):\")[1:]\n",
    "\n",
    "answers = []\n",
    "for answer_info in answers_info:\n",
    "    answers.append(answer_info.split(\"GH\")[2:])\n",
    "    tmp = []\n",
    "    for answer in answers[-1][:5]:\n",
    "        tmp.append(float(answer.split()[-1]))\n",
    "    answers[-1] = np.array(tmp)\n"
   ],
   "metadata": {
    "collapsed": false,
    "pycharm": {
     "name": "#%%\n"
    }
   }
  },
  {
   "cell_type": "code",
   "execution_count": 18,
   "outputs": [],
   "source": [
    "n_train = 7\n",
    "\n",
    "matrixes_train = all_matrixes[:n_train]\n",
    "weights_train = all_weights[:n_train]\n",
    "answers_train = answers[:n_train]"
   ],
   "metadata": {
    "collapsed": false,
    "pycharm": {
     "name": "#%%\n"
    }
   }
  },
  {
   "cell_type": "code",
   "execution_count": null,
   "outputs": [],
   "source": [
    "n_iter = 40\n",
    "\n",
    "\n",
    "def genetic_algorithm_test(no_change_stop, population_size, keep_best, selection_function, parent_selection_function, truncation_function, expansion_function, mutation_function):\n",
    "\n",
    "    for matrix, weights, answer in zip(matrixes_train, weights_train, answers_train):\n",
    "\n",
    "        for i in range(n_iter):\n",
    "\n",
    "            population = create_population(matrix, weights, population_size)\n",
    "\n",
    "            no_change = 0\n",
    "\n",
    "            unique_bodies = set()\n",
    "            top_scores_heap = []\n",
    "\n",
    "            while no_change < no_change_stop:\n",
    "                selected_population = selection_function(population)\n",
    "                parents = parent_selection_function(population)\n",
    "\n",
    "                children = []\n",
    "                for lhs, rhs in parents:\n",
    "                    all_nodes = list(lhs.nodes.union(rhs.nodes))\n",
    "\n",
    "                    all_nodes = mutation_function(all_nodes, matrix.shape[0])\n",
    "\n",
    "                    sub_matrix = matrix[all_nodes]\n",
    "                    sub_matrix = sub_matrix[:, all_nodes]\n",
    "\n",
    "                    sub_weights = weights[all_nodes]\n",
    "\n",
    "                    truncated = np.array(all_nodes)[list(truncation_function(sub_matrix, sub_weights))]\n",
    "\n",
    "                    expanded_nodes = expansion_function(list(truncated), matrix, weights)\n",
    "\n",
    "                    children.append(Individual(expanded_nodes, np.sum(weights[expanded_nodes])))\n",
    "\n",
    "                for child in children:\n",
    "                    selected_population.add_individual(child)\n",
    "\n",
    "                population = selected_population\n",
    "\n",
    "                previous_top_three = copy.deepcopy(top_scores_heap)\n",
    "\n",
    "                for individual in population.individuals:\n",
    "                    if tuple(individual.nodes) not in unique_bodies:\n",
    "                        unique_bodies.add(tuple(individual.nodes))\n",
    "                        if len(top_scores_heap) < keep_best:\n",
    "                            heapq.heappush(top_scores_heap, individual)\n",
    "                        else:\n",
    "                            heapq.heappushpop(top_scores_heap, individual)\n",
    "\n",
    "                top_scores_heap.sort(reverse=False)\n",
    "\n",
    "                if previous_top_three == top_scores_heap:\n",
    "                    no_change += 1\n",
    "                else:\n",
    "                    no_change = 0\n",
    "\n",
    "\n",
    "\n"
   ],
   "metadata": {
    "collapsed": false,
    "pycharm": {
     "name": "#%%\n"
    }
   }
  },
  {
   "cell_type": "code",
   "execution_count": 45,
   "outputs": [],
   "source": [
    "def accuracy(preds, y):\n",
    "    errors = 0\n",
    "    for el in preds:\n",
    "        if np.any(np.abs(y - el) < 1e-3):\n",
    "            continue\n",
    "        errors += 1\n",
    "\n",
    "    return 1 - errors / len(preds)"
   ],
   "metadata": {
    "collapsed": false,
    "pycharm": {
     "name": "#%%\n"
    }
   }
  },
  {
   "cell_type": "code",
   "execution_count": 163,
   "outputs": [
    {
     "name": "stdout",
     "output_type": "stream",
     "text": [
      "{'no_change_stop': 8, 'population_size': 10, 'keep_best': 5, 'selection_config': {'method': 'random', 'softmax': 1, 'temperature': 2}, 'parent_selection_config': {'method': 'outbreeding', 'skip_parent_probability': 0.2}, 'truncation_config': {'method': 'random', 'softmax': 1, 'temperature': 2, 'alpha': 0.5}, 'expansion_config': {'method': 'random', 'softmax': 1, 'temperature': 2, 'alpha': 0.5}, 'mutation_config': {'mutation_probability': 0.3, 'mutation_strength': 0.1}}\n"
     ]
    }
   ],
   "source": [
    "with open(\"config.json\", \"r\") as file:\n",
    "    config = json.load(file)\n",
    "\n",
    "print(config)"
   ],
   "metadata": {
    "collapsed": false,
    "pycharm": {
     "name": "#%%\n"
    }
   }
  },
  {
   "cell_type": "code",
   "execution_count": 134,
   "outputs": [
    {
     "name": "stderr",
     "output_type": "stream",
     "text": [
      "100%|██████████| 40/40 [00:03<00:00, 10.70it/s]\n",
      "100%|██████████| 40/40 [00:02<00:00, 15.17it/s]\n",
      "100%|██████████| 40/40 [00:02<00:00, 18.20it/s]\n",
      "100%|██████████| 40/40 [00:03<00:00, 10.72it/s]\n",
      "100%|██████████| 40/40 [00:03<00:00, 12.58it/s]\n",
      "100%|██████████| 40/40 [00:04<00:00,  8.66it/s]\n",
      "100%|██████████| 40/40 [00:02<00:00, 15.72it/s]\n",
      "100%|██████████| 40/40 [00:04<00:00,  9.70it/s]\n",
      "100%|██████████| 40/40 [00:02<00:00, 14.99it/s]\n",
      "100%|██████████| 40/40 [00:02<00:00, 18.93it/s]\n",
      "100%|██████████| 40/40 [00:03<00:00, 10.38it/s]\n",
      "100%|██████████| 40/40 [00:03<00:00, 11.40it/s]\n",
      "100%|██████████| 40/40 [00:05<00:00,  7.96it/s]\n",
      "100%|██████████| 40/40 [00:02<00:00, 14.89it/s]\n",
      "100%|██████████| 40/40 [00:04<00:00,  9.56it/s]\n",
      "100%|██████████| 40/40 [00:03<00:00, 11.03it/s]\n",
      "100%|██████████| 40/40 [00:03<00:00, 13.14it/s]\n",
      "100%|██████████| 40/40 [00:04<00:00,  8.72it/s]\n",
      "100%|██████████| 40/40 [00:03<00:00, 10.60it/s]\n",
      "100%|██████████| 40/40 [00:05<00:00,  7.92it/s]\n",
      "100%|██████████| 40/40 [00:03<00:00, 12.82it/s]\n"
     ]
    }
   ],
   "source": [
    "t_selection = {}\n",
    "accuracies_selection = {}\n",
    "\n",
    "for selection_method in [\"tournament\", \"random\", \"sigma_truncation\"]:\n",
    "\n",
    "    t_selection[selection_method] = []\n",
    "    accuracies_selection[selection_method] = []\n",
    "\n",
    "    config[\"selection_config\"][\"method\"] = selection_method\n",
    "\n",
    "    config_parser = ConfigParser(config)\n",
    "\n",
    "    selection_function = config_parser.get_selection_function()\n",
    "    parent_selection_function = config_parser.get_parent_selection_function()\n",
    "    truncation_function = config_parser.get_truncation_function()\n",
    "    expansion_function = config_parser.get_expansion_function()\n",
    "    mutation_function = config_parser.get_mutation_function()\n",
    "\n",
    "    n_iter = 40\n",
    "\n",
    "    for matrix, weights, answer in zip(matrixes_train, weights_train, answers_train):\n",
    "        for i in tqdm(list(range(n_iter))):\n",
    "            start_time = time.time()\n",
    "            result = genetic_algorithm(matrix, weights)\n",
    "            t_selection[selection_method].append(time.time() - start_time)\n",
    "            accuracies_selection[selection_method].append(accuracy(np.array([el.weight for el in result]), answer))"
   ],
   "metadata": {
    "collapsed": false,
    "pycharm": {
     "name": "#%%\n"
    }
   }
  },
  {
   "cell_type": "code",
   "execution_count": 135,
   "outputs": [],
   "source": [
    "from matplotlib import pyplot as plt"
   ],
   "metadata": {
    "collapsed": false,
    "pycharm": {
     "name": "#%%\n"
    }
   }
  },
  {
   "cell_type": "code",
   "execution_count": 63,
   "outputs": [
    {
     "ename": "NameError",
     "evalue": "name 't_selection' is not defined",
     "output_type": "error",
     "traceback": [
      "\u001B[1;31m---------------------------------------------------------------------------\u001B[0m",
      "\u001B[1;31mNameError\u001B[0m                                 Traceback (most recent call last)",
      "Input \u001B[1;32mIn [63]\u001B[0m, in \u001B[0;36m<cell line: 1>\u001B[1;34m()\u001B[0m\n\u001B[1;32m----> 1\u001B[0m plt\u001B[38;5;241m.\u001B[39mboxplot([\u001B[43mt_selection\u001B[49m[\u001B[38;5;124m\"\u001B[39m\u001B[38;5;124mtournament\u001B[39m\u001B[38;5;124m\"\u001B[39m],\n\u001B[0;32m      2\u001B[0m              t_selection[\u001B[38;5;124m\"\u001B[39m\u001B[38;5;124mrandom\u001B[39m\u001B[38;5;124m\"\u001B[39m],\n\u001B[0;32m      3\u001B[0m              t_selection[\u001B[38;5;124m\"\u001B[39m\u001B[38;5;124msigma_truncation\u001B[39m\u001B[38;5;124m\"\u001B[39m]], labels\u001B[38;5;241m=\u001B[39m[\u001B[38;5;124m\"\u001B[39m\u001B[38;5;124mtournament\u001B[39m\u001B[38;5;124m\"\u001B[39m, \u001B[38;5;124m\"\u001B[39m\u001B[38;5;124mrandom\u001B[39m\u001B[38;5;124m\"\u001B[39m, \u001B[38;5;124m\"\u001B[39m\u001B[38;5;124msigma_truncation\u001B[39m\u001B[38;5;124m\"\u001B[39m])\n\u001B[0;32m      5\u001B[0m plt\u001B[38;5;241m.\u001B[39mylabel(\u001B[38;5;124m\"\u001B[39m\u001B[38;5;124mСкорость работы, с\u001B[39m\u001B[38;5;124m\"\u001B[39m)\n\u001B[0;32m      6\u001B[0m plt\u001B[38;5;241m.\u001B[39mgrid()\n",
      "\u001B[1;31mNameError\u001B[0m: name 't_selection' is not defined"
     ]
    }
   ],
   "source": [
    "plt.boxplot([t_selection[\"tournament\"],\n",
    "             t_selection[\"random\"],\n",
    "             t_selection[\"sigma_truncation\"]], labels=[\"tournament\", \"random\", \"sigma_truncation\"])\n",
    "\n",
    "plt.ylabel(\"Скорость работы, с\")\n",
    "plt.grid()\n",
    "plt.show()"
   ],
   "metadata": {
    "collapsed": false,
    "pycharm": {
     "name": "#%%\n"
    }
   }
  },
  {
   "cell_type": "code",
   "execution_count": 141,
   "outputs": [
    {
     "data": {
      "text/plain": "<Figure size 432x288 with 1 Axes>",
      "image/png": "[encoded data removed]"
     },
     "metadata": {
      "needs_background": "light"
     },
     "output_type": "display_data"
    }
   ],
   "source": [
    "plt.scatter(np.mean(accuracies_selection[\"tournament\"]), np.mean(t_selection[\"tournament\"]), label=\"tournament\")\n",
    "plt.scatter(np.mean(accuracies_selection[\"random\"]), np.mean(t_selection[\"random\"]), label=\"random\")\n",
    "plt.scatter(np.mean(accuracies_selection[\"sigma_truncation\"]), np.mean(t_selection[\"sigma_truncation\"]), label=\"sigma_truncation\")\n",
    "plt.grid()\n",
    "plt.legend()\n",
    "plt.show()"
   ],
   "metadata": {
    "collapsed": false,
    "pycharm": {
     "name": "#%%\n"
    }
   }
  },
  {
   "cell_type": "code",
   "execution_count": 75,
   "outputs": [
    {
     "data": {
      "text/plain": "<Figure size 432x288 with 1 Axes>",
      "image/png": "[encoded data removed]"
     },
     "metadata": {
      "needs_background": "light"
     },
     "output_type": "display_data"
    }
   ],
   "source": [
    "plt.grid(True, which='major', linestyle='--', linewidth=0.5)\n",
    "plt.bar(\"tournament\", 0.9475)\n",
    "plt.bar(\"random\", 0.9514)\n",
    "plt.bar(\"sigma_truncation\", 0.9507)\n",
    "plt.ylim(0.94, 0.953)\n",
    "plt.show()"
   ],
   "metadata": {
    "collapsed": false,
    "pycharm": {
     "name": "#%%\n"
    }
   }
  },
  {
   "cell_type": "code",
   "execution_count": 143,
   "outputs": [
    {
     "name": "stderr",
     "output_type": "stream",
     "text": [
      "100%|██████████| 40/40 [00:03<00:00, 11.71it/s]\n",
      "100%|██████████| 40/40 [00:02<00:00, 14.78it/s]\n",
      "100%|██████████| 40/40 [00:02<00:00, 18.64it/s]\n",
      "100%|██████████| 40/40 [00:03<00:00, 11.28it/s]\n",
      "100%|██████████| 40/40 [00:03<00:00, 12.86it/s]\n",
      "100%|██████████| 40/40 [00:04<00:00,  9.80it/s]\n",
      "100%|██████████| 40/40 [00:02<00:00, 16.16it/s]\n",
      "100%|██████████| 40/40 [00:02<00:00, 14.26it/s]\n",
      "100%|██████████| 40/40 [00:02<00:00, 17.32it/s]\n",
      "100%|██████████| 40/40 [00:01<00:00, 21.23it/s]\n",
      "100%|██████████| 40/40 [00:02<00:00, 15.55it/s]\n",
      "100%|██████████| 40/40 [00:02<00:00, 17.64it/s]\n",
      "100%|██████████| 40/40 [00:02<00:00, 14.25it/s]\n",
      "100%|██████████| 40/40 [00:02<00:00, 19.37it/s]\n",
      "100%|██████████| 40/40 [00:04<00:00,  8.67it/s]\n",
      "100%|██████████| 40/40 [00:03<00:00, 11.68it/s]\n",
      "100%|██████████| 40/40 [00:02<00:00, 13.68it/s]\n",
      "100%|██████████| 40/40 [00:04<00:00,  8.27it/s]\n",
      "100%|██████████| 40/40 [00:03<00:00, 10.93it/s]\n",
      "100%|██████████| 40/40 [00:05<00:00,  6.94it/s]\n",
      "100%|██████████| 40/40 [00:03<00:00, 13.10it/s]\n"
     ]
    }
   ],
   "source": [
    "t_parent_selection = {}\n",
    "accuracies_parent_selection = {}\n",
    "\n",
    "for parent_selection_method in [\"panmixia\", \"inbreeding\", \"outbreeding\"]:\n",
    "\n",
    "    t_parent_selection[parent_selection_method] = []\n",
    "    accuracies_parent_selection[parent_selection_method] = []\n",
    "\n",
    "    config[\"parent_selection_config\"][\"method\"] = parent_selection_method\n",
    "\n",
    "    config_parser = ConfigParser(config)\n",
    "\n",
    "    selection_function = config_parser.get_selection_function()\n",
    "    parent_selection_function = config_parser.get_parent_selection_function()\n",
    "    truncation_function = config_parser.get_truncation_function()\n",
    "    expansion_function = config_parser.get_expansion_function()\n",
    "    mutation_function = config_parser.get_mutation_function()\n",
    "\n",
    "    n_iter = 40\n",
    "\n",
    "    for matrix, weights, answer in zip(matrixes_train, weights_train, answers_train):\n",
    "        for i in tqdm(list(range(n_iter))):\n",
    "            start_time = time.time()\n",
    "            result = genetic_algorithm(matrix, weights)\n",
    "            t_parent_selection[parent_selection_method].append(time.time() - start_time)\n",
    "            accuracies_parent_selection[parent_selection_method].append(accuracy(np.array([el.weight for el in result]), answer))"
   ],
   "metadata": {
    "collapsed": false,
    "pycharm": {
     "name": "#%%\n"
    }
   }
  },
  {
   "cell_type": "code",
   "execution_count": 144,
   "outputs": [
    {
     "data": {
      "text/plain": "<Figure size 432x288 with 1 Axes>",
      "image/png": "[encoded data removed]"
     },
     "metadata": {
      "needs_background": "light"
     },
     "output_type": "display_data"
    }
   ],
   "source": [
    "plt.boxplot([t_parent_selection[\"panmixia\"],\n",
    "             t_parent_selection[\"inbreeding\"],\n",
    "             t_parent_selection[\"outbreeding\"]], labels=[\"panmixia\", \"inbreeding\", \"outbreeding\"])\n",
    "\n",
    "plt.grid()\n",
    "plt.show()"
   ],
   "metadata": {
    "collapsed": false,
    "pycharm": {
     "name": "#%%\n"
    }
   }
  },
  {
   "cell_type": "code",
   "execution_count": 145,
   "outputs": [
    {
     "data": {
      "text/plain": "<Figure size 432x288 with 1 Axes>",
      "image/png": "[encoded data removed]"
     },
     "metadata": {
      "needs_background": "light"
     },
     "output_type": "display_data"
    }
   ],
   "source": [
    "plt.scatter(np.mean(accuracies_parent_selection[\"panmixia\"]), np.mean(t_parent_selection[\"panmixia\"]), label=\"panmixia\")\n",
    "plt.scatter(np.mean(accuracies_parent_selection[\"inbreeding\"]), np.mean(t_parent_selection[\"inbreeding\"]), label=\"inbreeding\")\n",
    "plt.scatter(np.mean(accuracies_parent_selection[\"outbreeding\"]), np.mean(t_parent_selection[\"outbreeding\"]), label=\"outbreeding\")\n",
    "plt.grid()\n",
    "plt.legend()\n",
    "plt.show()"
   ],
   "metadata": {
    "collapsed": false,
    "pycharm": {
     "name": "#%%\n"
    }
   }
  },
  {
   "cell_type": "code",
   "execution_count": 76,
   "outputs": [
    {
     "data": {
      "text/plain": "<Figure size 432x288 with 1 Axes>",
      "image/png": "[encoded data removed]"
     },
     "metadata": {
      "needs_background": "light"
     },
     "output_type": "display_data"
    }
   ],
   "source": [
    "plt.grid(True, which='major', linestyle='--', linewidth=0.5)\n",
    "plt.bar(\"panmixia\", 0.904)\n",
    "plt.bar(\"inbreeding\", 0.806)\n",
    "plt.bar(\"outbreeding\", 0.961)\n",
    "plt.ylim(0.75, 0.97)\n",
    "plt.show()"
   ],
   "metadata": {
    "collapsed": false,
    "pycharm": {
     "name": "#%%\n"
    }
   }
  },
  {
   "cell_type": "code",
   "execution_count": 149,
   "outputs": [
    {
     "name": "stderr",
     "output_type": "stream",
     "text": [
      "100%|██████████| 40/40 [00:00<00:00, 52.63it/s]\n",
      "100%|██████████| 40/40 [00:00<00:00, 54.05it/s]\n",
      "100%|██████████| 40/40 [00:00<00:00, 52.60it/s]\n",
      "100%|██████████| 40/40 [00:00<00:00, 58.73it/s]\n",
      "100%|██████████| 40/40 [00:00<00:00, 56.10it/s]\n",
      "100%|██████████| 40/40 [00:00<00:00, 58.39it/s]\n",
      "100%|██████████| 40/40 [00:00<00:00, 57.10it/s]\n",
      "100%|██████████| 40/40 [00:00<00:00, 43.81it/s]\n",
      "100%|██████████| 40/40 [00:00<00:00, 40.08it/s]\n",
      "100%|██████████| 40/40 [00:01<00:00, 38.98it/s]\n",
      "100%|██████████| 40/40 [00:00<00:00, 41.24it/s]\n",
      "100%|██████████| 40/40 [00:00<00:00, 44.10it/s]\n",
      "100%|██████████| 40/40 [00:00<00:00, 40.36it/s]\n",
      "100%|██████████| 40/40 [00:00<00:00, 41.15it/s]\n",
      "100%|██████████| 40/40 [00:03<00:00, 12.94it/s]\n",
      "100%|██████████| 40/40 [00:02<00:00, 14.15it/s]\n",
      "100%|██████████| 40/40 [00:02<00:00, 17.49it/s]\n",
      "100%|██████████| 40/40 [00:03<00:00, 13.18it/s]\n",
      "100%|██████████| 40/40 [00:03<00:00, 13.29it/s]\n",
      "100%|██████████| 40/40 [00:03<00:00, 10.67it/s]\n",
      "100%|██████████| 40/40 [00:02<00:00, 16.47it/s]\n",
      "100%|██████████| 40/40 [00:04<00:00,  8.75it/s]\n",
      "100%|██████████| 40/40 [00:03<00:00, 11.39it/s]\n",
      "100%|██████████| 40/40 [00:02<00:00, 13.99it/s]\n",
      "100%|██████████| 40/40 [00:04<00:00,  8.25it/s]\n",
      "100%|██████████| 40/40 [00:03<00:00, 10.75it/s]\n",
      "100%|██████████| 40/40 [00:05<00:00,  7.32it/s]\n",
      "100%|██████████| 40/40 [00:03<00:00, 12.39it/s]\n"
     ]
    }
   ],
   "source": [
    "t_breeding = {}\n",
    "accuracies_breeding = {}\n",
    "\n",
    "for truncation_method in [\"greedy\", \"random\"]:\n",
    "    for expansion_method in [\"greedy\", \"random\"]:\n",
    "\n",
    "        current_name = truncation_method + \"-\" + expansion_method\n",
    "\n",
    "        t_breeding[current_name] = []\n",
    "        accuracies_breeding[current_name] = []\n",
    "\n",
    "        config[\"truncation_config\"][\"method\"] = truncation_method\n",
    "        config[\"expansion_config\"][\"method\"] = expansion_method\n",
    "\n",
    "        config_parser = ConfigParser(config)\n",
    "\n",
    "        selection_function = config_parser.get_selection_function()\n",
    "        parent_selection_function = config_parser.get_parent_selection_function()\n",
    "        truncation_function = config_parser.get_truncation_function()\n",
    "        expansion_function = config_parser.get_expansion_function()\n",
    "        mutation_function = config_parser.get_mutation_function()\n",
    "\n",
    "        n_iter = 40\n",
    "\n",
    "        for matrix, weights, answer in zip(matrixes_train, weights_train, answers_train):\n",
    "            for i in tqdm(list(range(n_iter))):\n",
    "                start_time = time.time()\n",
    "                result = genetic_algorithm(matrix, weights)\n",
    "                t_breeding[current_name].append(time.time() - start_time)\n",
    "                accuracies_breeding[current_name].append(accuracy(np.array([el.weight for el in result]), answer))"
   ],
   "metadata": {
    "collapsed": false,
    "pycharm": {
     "name": "#%%\n"
    }
   }
  },
  {
   "cell_type": "code",
   "execution_count": 151,
   "outputs": [
    {
     "data": {
      "text/plain": "<Figure size 432x288 with 1 Axes>",
      "image/png": "[encoded data removed]"
     },
     "metadata": {
      "needs_background": "light"
     },
     "output_type": "display_data"
    }
   ],
   "source": [
    "plt.boxplot([t_breeding[\"greedy-greedy\"],\n",
    "             t_breeding[\"greedy-random\"],\n",
    "             t_breeding[\"random-greedy\"],\n",
    "             t_breeding[\"random-random\"]], labels=[\"greedy-greedy\", \"greedy-random\", \"random-greedy\", \"random-random\"])\n",
    "\n",
    "plt.grid()\n",
    "plt.show()"
   ],
   "metadata": {
    "collapsed": false,
    "pycharm": {
     "name": "#%%\n"
    }
   }
  },
  {
   "cell_type": "markdown",
   "source": [],
   "metadata": {
    "collapsed": false,
    "pycharm": {
     "name": "#%% md\n"
    }
   }
  },
  {
   "cell_type": "code",
   "execution_count": 152,
   "outputs": [
    {
     "data": {
      "text/plain": "<Figure size 432x288 with 1 Axes>",
      "image/png": "[encoded data removed]"
     },
     "metadata": {
      "needs_background": "light"
     },
     "output_type": "display_data"
    }
   ],
   "source": [
    "plt.scatter(np.mean(accuracies_breeding[\"greedy-greedy\"]), np.mean(t_breeding[\"greedy-greedy\"]), label=\"greedy-greedy\")\n",
    "plt.scatter(np.mean(accuracies_breeding[\"greedy-random\"]), np.mean(t_breeding[\"greedy-random\"]), label=\"greedy-random\")\n",
    "plt.scatter(np.mean(accuracies_breeding[\"random-greedy\"]), np.mean(t_breeding[\"random-greedy\"]), label=\"random-greedy\")\n",
    "plt.scatter(np.mean(accuracies_breeding[\"random-random\"]), np.mean(t_breeding[\"random-random\"]), label=\"random-random\")\n",
    "plt.grid()\n",
    "plt.legend()\n",
    "plt.show()"
   ],
   "metadata": {
    "collapsed": false,
    "pycharm": {
     "name": "#%%\n"
    }
   }
  },
  {
   "cell_type": "code",
   "execution_count": 77,
   "outputs": [
    {
     "data": {
      "text/plain": "<Figure size 432x288 with 1 Axes>",
      "image/png": "[encoded data removed]"
     },
     "metadata": {
      "needs_background": "light"
     },
     "output_type": "display_data"
    }
   ],
   "source": [
    "plt.grid(True, which='major', linestyle='--', linewidth=0.5)\n",
    "plt.bar(\"greedy-greedy\", 0.57)\n",
    "plt.bar(\"greedy-random\", 0.71)\n",
    "plt.bar(\"random-greedy\", 0.76)\n",
    "plt.bar(\"random-random\", 0.94)\n",
    "plt.ylim(0.5, 0.98)\n",
    "plt.show()"
   ],
   "metadata": {
    "collapsed": false,
    "pycharm": {
     "name": "#%%\n"
    }
   }
  },
  {
   "cell_type": "code",
   "execution_count": 154,
   "outputs": [
    {
     "name": "stderr",
     "output_type": "stream",
     "text": [
      "100%|██████████| 40/40 [00:02<00:00, 16.39it/s]\n",
      "100%|██████████| 40/40 [00:01<00:00, 22.50it/s]\n",
      "100%|██████████| 40/40 [00:01<00:00, 28.43it/s]\n",
      "100%|██████████| 40/40 [00:02<00:00, 17.32it/s]\n",
      "100%|██████████| 40/40 [00:02<00:00, 19.51it/s]\n",
      "100%|██████████| 40/40 [00:02<00:00, 13.99it/s]\n",
      "100%|██████████| 40/40 [00:01<00:00, 23.41it/s]\n",
      "100%|██████████| 40/40 [00:02<00:00, 17.29it/s]\n",
      "100%|██████████| 40/40 [00:01<00:00, 23.36it/s]\n",
      "100%|██████████| 40/40 [00:01<00:00, 27.86it/s]\n",
      "100%|██████████| 40/40 [00:02<00:00, 18.05it/s]\n",
      "100%|██████████| 40/40 [00:02<00:00, 19.54it/s]\n",
      "100%|██████████| 40/40 [00:02<00:00, 14.96it/s]\n",
      "100%|██████████| 40/40 [00:01<00:00, 24.91it/s]\n",
      "100%|██████████| 40/40 [00:02<00:00, 13.96it/s]\n",
      "100%|██████████| 40/40 [00:01<00:00, 20.69it/s]\n",
      "100%|██████████| 40/40 [00:01<00:00, 25.20it/s]\n",
      "100%|██████████| 40/40 [00:02<00:00, 15.77it/s]\n",
      "100%|██████████| 40/40 [00:02<00:00, 15.87it/s]\n",
      "100%|██████████| 40/40 [00:03<00:00, 11.10it/s]\n",
      "100%|██████████| 40/40 [00:01<00:00, 21.41it/s]\n",
      "100%|██████████| 40/40 [00:02<00:00, 14.45it/s]\n",
      "100%|██████████| 40/40 [00:02<00:00, 19.61it/s]\n",
      "100%|██████████| 40/40 [00:01<00:00, 25.91it/s]\n",
      "100%|██████████| 40/40 [00:02<00:00, 14.95it/s]\n",
      "100%|██████████| 40/40 [00:02<00:00, 16.17it/s]\n",
      "100%|██████████| 40/40 [00:03<00:00, 11.60it/s]\n",
      "100%|██████████| 40/40 [00:01<00:00, 21.20it/s]\n",
      "100%|██████████| 40/40 [00:03<00:00, 12.89it/s]\n",
      "100%|██████████| 40/40 [00:02<00:00, 18.41it/s]\n",
      "100%|██████████| 40/40 [00:01<00:00, 22.98it/s]\n",
      "100%|██████████| 40/40 [00:02<00:00, 14.32it/s]\n",
      "100%|██████████| 40/40 [00:02<00:00, 15.82it/s]\n",
      "100%|██████████| 40/40 [00:03<00:00, 10.44it/s]\n",
      "100%|██████████| 40/40 [00:02<00:00, 18.58it/s]\n",
      "100%|██████████| 40/40 [00:03<00:00, 12.40it/s]\n",
      "100%|██████████| 40/40 [00:02<00:00, 18.17it/s]\n",
      "100%|██████████| 40/40 [00:01<00:00, 22.95it/s]\n",
      "100%|██████████| 40/40 [00:02<00:00, 14.40it/s]\n",
      "100%|██████████| 40/40 [00:02<00:00, 15.05it/s]\n",
      "100%|██████████| 40/40 [00:04<00:00,  9.99it/s]\n",
      "100%|██████████| 40/40 [00:02<00:00, 18.54it/s]\n",
      "100%|██████████| 40/40 [00:03<00:00, 12.30it/s]\n",
      "100%|██████████| 40/40 [00:02<00:00, 16.66it/s]\n",
      "100%|██████████| 40/40 [00:01<00:00, 20.90it/s]\n",
      "100%|██████████| 40/40 [00:03<00:00, 12.74it/s]\n",
      "100%|██████████| 40/40 [00:03<00:00, 12.44it/s]\n",
      "100%|██████████| 40/40 [00:04<00:00,  9.10it/s]\n",
      "100%|██████████| 40/40 [00:02<00:00, 17.85it/s]\n",
      "100%|██████████| 40/40 [00:03<00:00, 11.41it/s]\n",
      "100%|██████████| 40/40 [00:02<00:00, 16.59it/s]\n",
      "100%|██████████| 40/40 [00:01<00:00, 20.07it/s]\n",
      "100%|██████████| 40/40 [00:03<00:00, 12.91it/s]\n",
      "100%|██████████| 40/40 [00:02<00:00, 13.84it/s]\n",
      "100%|██████████| 40/40 [00:04<00:00,  9.64it/s]\n",
      "100%|██████████| 40/40 [00:02<00:00, 17.43it/s]\n",
      "100%|██████████| 40/40 [00:03<00:00, 10.86it/s]\n",
      "100%|██████████| 40/40 [00:02<00:00, 16.04it/s]\n",
      "100%|██████████| 40/40 [00:02<00:00, 18.98it/s]\n",
      "100%|██████████| 40/40 [00:03<00:00, 11.67it/s]\n",
      "100%|██████████| 40/40 [00:03<00:00, 11.76it/s]\n",
      "100%|██████████| 40/40 [00:04<00:00,  8.06it/s]\n",
      "100%|██████████| 40/40 [00:02<00:00, 15.19it/s]\n",
      "100%|██████████| 40/40 [00:03<00:00, 11.25it/s]\n",
      "100%|██████████| 40/40 [00:02<00:00, 15.05it/s]\n",
      "100%|██████████| 40/40 [00:01<00:00, 20.30it/s]\n",
      "100%|██████████| 40/40 [00:03<00:00, 11.52it/s]\n",
      "100%|██████████| 40/40 [00:03<00:00, 13.17it/s]\n",
      "100%|██████████| 40/40 [00:04<00:00,  8.57it/s]\n",
      "100%|██████████| 40/40 [00:02<00:00, 16.05it/s]\n",
      "100%|██████████| 40/40 [00:03<00:00, 10.11it/s]\n",
      "100%|██████████| 40/40 [00:02<00:00, 13.84it/s]\n",
      "100%|██████████| 40/40 [00:02<00:00, 18.42it/s]\n",
      "100%|██████████| 40/40 [00:03<00:00, 10.72it/s]\n",
      "100%|██████████| 40/40 [00:03<00:00, 11.57it/s]\n",
      "100%|██████████| 40/40 [00:05<00:00,  6.99it/s]\n",
      "100%|██████████| 40/40 [00:02<00:00, 13.94it/s]\n",
      "100%|██████████| 40/40 [00:04<00:00,  9.42it/s]\n",
      "100%|██████████| 40/40 [00:02<00:00, 14.31it/s]\n",
      "100%|██████████| 40/40 [00:02<00:00, 16.84it/s]\n",
      "100%|██████████| 40/40 [00:03<00:00, 10.81it/s]\n",
      "100%|██████████| 40/40 [00:03<00:00, 12.06it/s]\n",
      "100%|██████████| 40/40 [00:05<00:00,  7.41it/s]\n",
      "100%|██████████| 40/40 [00:02<00:00, 15.15it/s]\n",
      "100%|██████████| 40/40 [00:04<00:00,  9.60it/s]\n",
      "100%|██████████| 40/40 [00:03<00:00, 13.27it/s]\n",
      "100%|██████████| 40/40 [00:02<00:00, 17.01it/s]\n",
      "100%|██████████| 40/40 [00:03<00:00, 10.31it/s]\n",
      "100%|██████████| 40/40 [00:03<00:00, 11.34it/s]\n",
      "100%|██████████| 40/40 [00:05<00:00,  7.04it/s]\n",
      "100%|██████████| 40/40 [00:03<00:00, 12.95it/s]\n",
      "100%|██████████| 40/40 [00:04<00:00,  8.92it/s]\n",
      "100%|██████████| 40/40 [00:03<00:00, 13.25it/s]\n",
      "100%|██████████| 40/40 [00:02<00:00, 15.85it/s]\n",
      "100%|██████████| 40/40 [00:03<00:00, 10.06it/s]\n",
      "100%|██████████| 40/40 [00:03<00:00, 10.79it/s]\n",
      "100%|██████████| 40/40 [00:05<00:00,  7.01it/s]\n",
      "100%|██████████| 40/40 [00:03<00:00, 13.16it/s]\n",
      "100%|██████████| 40/40 [00:04<00:00,  8.65it/s]\n",
      "100%|██████████| 40/40 [00:03<00:00, 12.77it/s]\n",
      "100%|██████████| 40/40 [00:02<00:00, 15.63it/s]\n",
      "100%|██████████| 40/40 [00:04<00:00,  9.83it/s]\n",
      "100%|██████████| 40/40 [00:03<00:00, 10.60it/s]\n",
      "100%|██████████| 40/40 [00:05<00:00,  6.92it/s]\n",
      "100%|██████████| 40/40 [00:03<00:00, 12.30it/s]\n",
      "100%|██████████| 40/40 [00:04<00:00,  8.61it/s]\n",
      "100%|██████████| 40/40 [00:03<00:00, 10.74it/s]\n",
      "100%|██████████| 40/40 [00:03<00:00, 12.96it/s]\n",
      "100%|██████████| 40/40 [00:04<00:00,  8.11it/s]\n",
      "100%|██████████| 40/40 [00:03<00:00, 10.17it/s]\n",
      "100%|██████████| 40/40 [00:06<00:00,  6.22it/s]\n",
      "100%|██████████| 40/40 [00:03<00:00, 12.68it/s]\n",
      "100%|██████████| 40/40 [00:04<00:00,  8.22it/s]\n",
      "100%|██████████| 40/40 [00:03<00:00, 12.29it/s]\n",
      "100%|██████████| 40/40 [00:02<00:00, 13.87it/s]\n",
      "100%|██████████| 40/40 [00:04<00:00,  9.10it/s]\n",
      "100%|██████████| 40/40 [00:04<00:00,  9.34it/s]\n",
      "100%|██████████| 40/40 [00:06<00:00,  6.36it/s]\n",
      "100%|██████████| 40/40 [00:03<00:00, 11.42it/s]\n",
      "100%|██████████| 40/40 [00:04<00:00,  8.14it/s]\n",
      "100%|██████████| 40/40 [00:03<00:00, 11.74it/s]\n",
      "100%|██████████| 40/40 [00:02<00:00, 14.98it/s]\n",
      "100%|██████████| 40/40 [00:04<00:00,  8.99it/s]\n",
      "100%|██████████| 40/40 [00:04<00:00,  9.86it/s]\n",
      "100%|██████████| 40/40 [00:06<00:00,  6.03it/s]\n",
      "100%|██████████| 40/40 [00:03<00:00, 12.25it/s]\n",
      "100%|██████████| 40/40 [00:05<00:00,  7.63it/s]\n",
      "100%|██████████| 40/40 [00:03<00:00, 11.75it/s]\n",
      "100%|██████████| 40/40 [00:02<00:00, 14.01it/s]\n",
      "100%|██████████| 40/40 [00:04<00:00,  8.32it/s]\n",
      "100%|██████████| 40/40 [00:04<00:00,  9.59it/s]\n",
      "100%|██████████| 40/40 [00:06<00:00,  6.02it/s]\n",
      "100%|██████████| 40/40 [00:03<00:00, 11.43it/s]\n",
      "100%|██████████| 40/40 [00:05<00:00,  7.77it/s]\n",
      "100%|██████████| 40/40 [00:03<00:00, 11.70it/s]\n",
      "100%|██████████| 40/40 [00:03<00:00, 12.22it/s]\n",
      "100%|██████████| 40/40 [00:04<00:00,  8.07it/s]\n",
      "100%|██████████| 40/40 [00:04<00:00,  8.51it/s]\n",
      "100%|██████████| 40/40 [00:06<00:00,  6.33it/s]\n",
      "100%|██████████| 40/40 [00:03<00:00, 11.68it/s]\n",
      "100%|██████████| 40/40 [00:05<00:00,  7.72it/s]\n",
      "100%|██████████| 40/40 [00:03<00:00, 10.43it/s]\n",
      "100%|██████████| 40/40 [00:03<00:00, 12.89it/s]\n",
      "100%|██████████| 40/40 [00:04<00:00,  8.07it/s]\n",
      "100%|██████████| 40/40 [00:04<00:00,  8.49it/s]\n",
      "100%|██████████| 40/40 [00:06<00:00,  5.76it/s]\n",
      "100%|██████████| 40/40 [00:03<00:00, 10.82it/s]\n",
      "100%|██████████| 40/40 [00:05<00:00,  7.45it/s]\n",
      "100%|██████████| 40/40 [00:03<00:00, 10.95it/s]\n",
      "100%|██████████| 40/40 [00:03<00:00, 12.43it/s]\n",
      "100%|██████████| 40/40 [00:05<00:00,  7.81it/s]\n",
      "100%|██████████| 40/40 [00:04<00:00,  8.16it/s]\n",
      "100%|██████████| 40/40 [00:06<00:00,  5.91it/s]\n",
      "100%|██████████| 40/40 [00:03<00:00, 10.50it/s]\n",
      "100%|██████████| 40/40 [00:05<00:00,  7.20it/s]\n",
      "100%|██████████| 40/40 [00:03<00:00, 10.08it/s]\n",
      "100%|██████████| 40/40 [00:03<00:00, 12.24it/s]\n",
      "100%|██████████| 40/40 [00:05<00:00,  7.61it/s]\n",
      "100%|██████████| 40/40 [00:04<00:00,  8.17it/s]\n",
      "100%|██████████| 40/40 [00:07<00:00,  5.36it/s]\n",
      "100%|██████████| 40/40 [00:03<00:00, 10.36it/s]\n",
      "100%|██████████| 40/40 [00:05<00:00,  7.09it/s]\n",
      "100%|██████████| 40/40 [00:03<00:00, 10.36it/s]\n",
      "100%|██████████| 40/40 [00:03<00:00, 12.16it/s]\n",
      "100%|██████████| 40/40 [00:05<00:00,  7.31it/s]\n",
      "100%|██████████| 40/40 [00:04<00:00,  8.18it/s]\n",
      "100%|██████████| 40/40 [00:07<00:00,  5.37it/s]\n",
      "100%|██████████| 40/40 [00:03<00:00, 10.60it/s]\n",
      "100%|██████████| 40/40 [00:05<00:00,  6.71it/s]\n",
      "100%|██████████| 40/40 [00:04<00:00,  9.83it/s]\n",
      "100%|██████████| 40/40 [00:03<00:00, 11.62it/s]\n",
      "100%|██████████| 40/40 [00:05<00:00,  7.45it/s]\n",
      "100%|██████████| 40/40 [00:05<00:00,  7.94it/s]\n",
      "100%|██████████| 40/40 [00:07<00:00,  5.50it/s]\n",
      "100%|██████████| 40/40 [00:03<00:00, 10.57it/s]\n",
      "100%|██████████| 40/40 [00:05<00:00,  7.17it/s]\n",
      "100%|██████████| 40/40 [00:03<00:00, 10.11it/s]\n",
      "100%|██████████| 40/40 [00:03<00:00, 11.51it/s]\n",
      "100%|██████████| 40/40 [00:05<00:00,  7.31it/s]\n",
      "100%|██████████| 40/40 [00:04<00:00,  8.30it/s]\n",
      "100%|██████████| 40/40 [00:07<00:00,  5.30it/s]\n",
      "100%|██████████| 40/40 [00:04<00:00,  9.81it/s]\n",
      "100%|██████████| 40/40 [00:06<00:00,  6.66it/s]\n",
      "100%|██████████| 40/40 [00:04<00:00,  9.51it/s]\n",
      "100%|██████████| 40/40 [00:03<00:00, 10.35it/s]\n",
      "100%|██████████| 40/40 [00:05<00:00,  7.18it/s]\n",
      "100%|██████████| 40/40 [00:05<00:00,  7.36it/s]\n",
      "100%|██████████| 40/40 [00:08<00:00,  4.92it/s]\n",
      "100%|██████████| 40/40 [00:04<00:00,  9.05it/s]\n",
      "100%|██████████| 40/40 [00:05<00:00,  6.83it/s]\n",
      "100%|██████████| 40/40 [00:04<00:00,  9.96it/s]\n",
      "100%|██████████| 40/40 [00:03<00:00, 10.28it/s]\n",
      "100%|██████████| 40/40 [00:05<00:00,  7.30it/s]\n",
      "100%|██████████| 40/40 [00:05<00:00,  7.54it/s]\n",
      "100%|██████████| 40/40 [00:08<00:00,  4.89it/s]\n",
      "100%|██████████| 40/40 [00:04<00:00,  9.51it/s]\n",
      "100%|██████████| 40/40 [00:05<00:00,  6.71it/s]\n",
      "100%|██████████| 40/40 [00:04<00:00,  8.95it/s]\n",
      "100%|██████████| 40/40 [00:03<00:00, 10.83it/s]\n",
      "100%|██████████| 40/40 [00:06<00:00,  6.65it/s]\n",
      "100%|██████████| 40/40 [00:05<00:00,  7.08it/s]\n",
      "100%|██████████| 40/40 [00:08<00:00,  4.91it/s]\n",
      "100%|██████████| 40/40 [00:04<00:00,  9.03it/s]\n",
      "100%|██████████| 40/40 [00:06<00:00,  6.29it/s]\n",
      "100%|██████████| 40/40 [00:04<00:00,  8.77it/s]\n",
      "100%|██████████| 40/40 [00:04<00:00,  9.91it/s]\n",
      "100%|██████████| 40/40 [00:06<00:00,  6.32it/s]\n",
      "100%|██████████| 40/40 [00:05<00:00,  6.98it/s]\n",
      "100%|██████████| 40/40 [00:07<00:00,  5.05it/s]\n",
      "100%|██████████| 40/40 [00:04<00:00,  8.72it/s]\n",
      "100%|██████████| 40/40 [00:07<00:00,  5.51it/s]\n",
      "100%|██████████| 40/40 [00:06<00:00,  6.66it/s]\n",
      "100%|██████████| 40/40 [00:05<00:00,  7.70it/s]\n",
      "100%|██████████| 40/40 [00:07<00:00,  5.16it/s]\n",
      "100%|██████████| 40/40 [00:06<00:00,  5.99it/s]\n",
      "100%|██████████| 40/40 [00:09<00:00,  4.17it/s]\n",
      "100%|██████████| 40/40 [00:04<00:00,  8.40it/s]\n",
      "100%|██████████| 40/40 [00:06<00:00,  6.17it/s]\n",
      "100%|██████████| 40/40 [00:04<00:00,  8.88it/s]\n",
      "100%|██████████| 40/40 [00:03<00:00, 10.36it/s]\n",
      "100%|██████████| 40/40 [00:06<00:00,  6.28it/s]\n",
      "100%|██████████| 40/40 [00:06<00:00,  6.52it/s]\n",
      "100%|██████████| 40/40 [00:08<00:00,  4.45it/s]\n",
      "100%|██████████| 40/40 [00:05<00:00,  7.85it/s]\n",
      "100%|██████████| 40/40 [00:07<00:00,  5.63it/s]\n",
      "100%|██████████| 40/40 [00:04<00:00,  8.10it/s]\n",
      "100%|██████████| 40/40 [00:04<00:00,  9.58it/s]\n",
      "100%|██████████| 40/40 [00:06<00:00,  6.24it/s]\n",
      "100%|██████████| 40/40 [00:05<00:00,  6.81it/s]\n",
      "100%|██████████| 40/40 [00:08<00:00,  4.59it/s]\n",
      "100%|██████████| 40/40 [00:04<00:00,  8.29it/s]\n",
      "100%|██████████| 40/40 [00:06<00:00,  5.91it/s]\n",
      "100%|██████████| 40/40 [00:04<00:00,  8.27it/s]\n",
      "100%|██████████| 40/40 [00:04<00:00,  9.42it/s]\n",
      "100%|██████████| 40/40 [00:06<00:00,  6.16it/s]\n",
      "100%|██████████| 40/40 [00:05<00:00,  6.75it/s]\n",
      "100%|██████████| 40/40 [00:08<00:00,  4.57it/s]\n",
      "100%|██████████| 40/40 [00:04<00:00,  8.12it/s]\n"
     ]
    }
   ],
   "source": [
    "t_no_change = {}\n",
    "accuracies_no_change = {}\n",
    "\n",
    "for no_change in range(3, 20):\n",
    "    for expansion_method in [\"greedy\", \"random\"]:\n",
    "\n",
    "        t_no_change[no_change] = []\n",
    "        accuracies_no_change[no_change] = []\n",
    "\n",
    "        config[\"no_change_stop\"] = no_change\n",
    "\n",
    "        config_parser = ConfigParser(config)\n",
    "\n",
    "        selection_function = config_parser.get_selection_function()\n",
    "        parent_selection_function = config_parser.get_parent_selection_function()\n",
    "        truncation_function = config_parser.get_truncation_function()\n",
    "        expansion_function = config_parser.get_expansion_function()\n",
    "        mutation_function = config_parser.get_mutation_function()\n",
    "\n",
    "        n_iter = 40\n",
    "\n",
    "        for matrix, weights, answer in zip(matrixes_train, weights_train, answers_train):\n",
    "            for i in tqdm(list(range(n_iter))):\n",
    "                start_time = time.time()\n",
    "                result = genetic_algorithm(matrix, weights)\n",
    "                t_no_change[no_change].append(time.time() - start_time)\n",
    "                accuracies_no_change[no_change].append(accuracy(np.array([el.weight for el in result]), answer))"
   ],
   "metadata": {
    "collapsed": false,
    "pycharm": {
     "name": "#%%\n"
    }
   }
  },
  {
   "cell_type": "code",
   "execution_count": 156,
   "outputs": [
    {
     "data": {
      "text/plain": "<Figure size 432x288 with 1 Axes>",
      "image/png": "[encoded data removed]"
     },
     "metadata": {
      "needs_background": "light"
     },
     "output_type": "display_data"
    }
   ],
   "source": [
    "plt.plot(list(t_no_change.keys()), [np.mean(res) for res in t_no_change.values()])\n",
    "plt.grid()\n",
    "plt.show()"
   ],
   "metadata": {
    "collapsed": false,
    "pycharm": {
     "name": "#%%\n"
    }
   }
  },
  {
   "cell_type": "code",
   "execution_count": 157,
   "outputs": [
    {
     "data": {
      "text/plain": "<Figure size 432x288 with 1 Axes>",
      "image/png": "[encoded data removed]"
     },
     "metadata": {
      "needs_background": "light"
     },
     "output_type": "display_data"
    }
   ],
   "source": [
    "plt.plot(list(accuracies_no_change.keys()), [np.mean(res) for res in accuracies_no_change.values()])\n",
    "plt.grid()\n",
    "plt.show()"
   ],
   "metadata": {
    "collapsed": false,
    "pycharm": {
     "name": "#%%\n"
    }
   }
  },
  {
   "cell_type": "code",
   "execution_count": 158,
   "outputs": [
    {
     "data": {
      "text/plain": "<Figure size 432x288 with 1 Axes>",
      "image/png": "[encoded data removed]"
     },
     "metadata": {
      "needs_background": "light"
     },
     "output_type": "display_data"
    }
   ],
   "source": [
    "plt.plot([np.mean(res) for res in t_no_change.values()], [np.mean(res) for res in accuracies_no_change.values()])\n",
    "plt.grid()\n",
    "plt.show()"
   ],
   "metadata": {
    "collapsed": false,
    "pycharm": {
     "name": "#%%\n"
    }
   }
  },
  {
   "cell_type": "code",
   "execution_count": 159,
   "outputs": [
    {
     "name": "stderr",
     "output_type": "stream",
     "text": [
      "100%|██████████| 14/14 [18:08<00:00, 77.75s/it] \n"
     ]
    }
   ],
   "source": [
    "t_population_size = {}\n",
    "accuracies_population_size = {}\n",
    "\n",
    "for population_size in tqdm(range(4, 31, 2)):\n",
    "\n",
    "    t_population_size[population_size] = []\n",
    "    accuracies_population_size[population_size] = []\n",
    "\n",
    "    config[\"population_size\"] = population_size\n",
    "\n",
    "    config_parser = ConfigParser(config)\n",
    "\n",
    "    selection_function = config_parser.get_selection_function()\n",
    "    parent_selection_function = config_parser.get_parent_selection_function()\n",
    "    truncation_function = config_parser.get_truncation_function()\n",
    "    expansion_function = config_parser.get_expansion_function()\n",
    "    mutation_function = config_parser.get_mutation_function()\n",
    "\n",
    "    n_iter = 40\n",
    "\n",
    "    for matrix, weights, answer in zip(matrixes_train, weights_train, answers_train):\n",
    "        for i in list(range(n_iter)):\n",
    "            start_time = time.time()\n",
    "            result = genetic_algorithm(matrix, weights)\n",
    "            t_population_size[population_size].append(time.time() - start_time)\n",
    "            accuracies_population_size[population_size].append(accuracy(np.array([el.weight for el in result]), answer))"
   ],
   "metadata": {
    "collapsed": false,
    "pycharm": {
     "name": "#%%\n"
    }
   }
  },
  {
   "cell_type": "code",
   "execution_count": 160,
   "outputs": [
    {
     "data": {
      "text/plain": "<Figure size 432x288 with 1 Axes>",
      "image/png": "[encoded data removed]"
     },
     "metadata": {
      "needs_background": "light"
     },
     "output_type": "display_data"
    }
   ],
   "source": [
    "plt.plot(list(t_population_size.keys()), [np.mean(res) for res in t_population_size.values()])\n",
    "plt.grid()\n",
    "plt.show()"
   ],
   "metadata": {
    "collapsed": false,
    "pycharm": {
     "name": "#%%\n"
    }
   }
  },
  {
   "cell_type": "code",
   "execution_count": 161,
   "outputs": [
    {
     "data": {
      "text/plain": "<Figure size 432x288 with 1 Axes>",
      "image/png": "[encoded data removed]"
     },
     "metadata": {
      "needs_background": "light"
     },
     "output_type": "display_data"
    }
   ],
   "source": [
    "plt.plot(list(accuracies_population_size.keys()), [np.mean(res) for res in accuracies_population_size.values()])\n",
    "plt.grid()\n",
    "plt.show()"
   ],
   "metadata": {
    "collapsed": false,
    "pycharm": {
     "name": "#%%\n"
    }
   }
  },
  {
   "cell_type": "code",
   "execution_count": 162,
   "outputs": [
    {
     "data": {
      "text/plain": "<Figure size 432x288 with 1 Axes>",
      "image/png": "[encoded data removed]"
     },
     "metadata": {
      "needs_background": "light"
     },
     "output_type": "display_data"
    }
   ],
   "source": [
    "plt.plot([np.mean(res) for res in t_population_size.values()], [np.mean(res) for res in accuracies_population_size.values()])\n",
    "plt.grid()\n",
    "plt.show()"
   ],
   "metadata": {
    "collapsed": false,
    "pycharm": {
     "name": "#%%\n"
    }
   }
  },
  {
   "cell_type": "code",
   "execution_count": 164,
   "outputs": [
    {
     "name": "stderr",
     "output_type": "stream",
     "text": [
      "100%|██████████| 11/11 [04:34<00:00, 24.95s/it]\n"
     ]
    }
   ],
   "source": [
    "t_mutation = {}\n",
    "accuracies_mutation = {}\n",
    "\n",
    "for mutation_p in tqdm(np.arange(0, 1.05, 0.1)):\n",
    "\n",
    "    t_mutation[mutation_p] = []\n",
    "    accuracies_mutation[mutation_p] = []\n",
    "\n",
    "    with open(\"config.json\", \"r\") as file:\n",
    "        config = json.load(file)\n",
    "    config[\"mutation_config\"][\"mutation_probability\"] = mutation_p\n",
    "\n",
    "    config_parser = ConfigParser(config)\n",
    "\n",
    "    selection_function = config_parser.get_selection_function()\n",
    "    parent_selection_function = config_parser.get_parent_selection_function()\n",
    "    truncation_function = config_parser.get_truncation_function()\n",
    "    expansion_function = config_parser.get_expansion_function()\n",
    "    mutation_function = config_parser.get_mutation_function()\n",
    "\n",
    "    n_iter = 40\n",
    "\n",
    "    for matrix, weights, answer in zip(matrixes_train, weights_train, answers_train):\n",
    "        for i in list(range(n_iter)):\n",
    "            start_time = time.time()\n",
    "            result = genetic_algorithm(matrix, weights)\n",
    "            t_mutation[mutation_p].append(time.time() - start_time)\n",
    "            accuracies_mutation[mutation_p].append(accuracy(np.array([el.weight for el in result]), answer))"
   ],
   "metadata": {
    "collapsed": false,
    "pycharm": {
     "name": "#%%\n"
    }
   }
  },
  {
   "cell_type": "code",
   "execution_count": 165,
   "outputs": [
    {
     "data": {
      "text/plain": "<Figure size 432x288 with 1 Axes>",
      "image/png": "[encoded data removed]"
     },
     "metadata": {
      "needs_background": "light"
     },
     "output_type": "display_data"
    }
   ],
   "source": [
    "plt.plot(list(t_mutation.keys()), [np.mean(res) for res in t_mutation.values()])\n",
    "plt.grid()\n",
    "plt.show()"
   ],
   "metadata": {
    "collapsed": false,
    "pycharm": {
     "name": "#%%\n"
    }
   }
  },
  {
   "cell_type": "code",
   "execution_count": 166,
   "outputs": [
    {
     "data": {
      "text/plain": "<Figure size 432x288 with 1 Axes>",
      "image/png": "[encoded data removed]"
     },
     "metadata": {
      "needs_background": "light"
     },
     "output_type": "display_data"
    }
   ],
   "source": [
    "plt.plot(list(accuracies_mutation.keys()), [np.mean(res) for res in accuracies_mutation.values()])\n",
    "plt.grid()\n",
    "plt.show()"
   ],
   "metadata": {
    "collapsed": false,
    "pycharm": {
     "name": "#%%\n"
    }
   }
  },
  {
   "cell_type": "code",
   "execution_count": 167,
   "outputs": [
    {
     "data": {
      "text/plain": "<Figure size 432x288 with 1 Axes>",
      "image/png": "[encoded data removed]"
     },
     "metadata": {
      "needs_background": "light"
     },
     "output_type": "display_data"
    }
   ],
   "source": [
    "plt.plot([np.mean(res) for res in t_mutation.values()], [np.mean(res) for res in accuracies_mutation.values()])\n",
    "plt.grid()\n",
    "plt.show()"
   ],
   "metadata": {
    "collapsed": false,
    "pycharm": {
     "name": "#%%\n"
    }
   }
  },
  {
   "cell_type": "code",
   "execution_count": 179,
   "outputs": [
    {
     "name": "stderr",
     "output_type": "stream",
     "text": [
      "100%|██████████| 40/40 [00:04<00:00,  9.10it/s]\n",
      "100%|██████████| 40/40 [00:02<00:00, 13.65it/s]\n",
      "100%|██████████| 40/40 [00:02<00:00, 18.05it/s]\n",
      "100%|██████████| 40/40 [00:03<00:00, 11.39it/s]\n",
      "100%|██████████| 40/40 [00:03<00:00, 10.76it/s]\n",
      "100%|██████████| 40/40 [00:05<00:00,  7.28it/s]\n",
      "100%|██████████| 40/40 [00:02<00:00, 13.51it/s]\n",
      "100%|██████████| 40/40 [00:04<00:00,  8.79it/s]\n",
      "100%|██████████| 40/40 [00:02<00:00, 14.43it/s]\n",
      "100%|██████████| 40/40 [00:02<00:00, 17.72it/s]\n",
      "100%|██████████| 40/40 [00:03<00:00, 10.61it/s]\n",
      "100%|██████████| 40/40 [00:03<00:00, 12.02it/s]\n",
      "100%|██████████| 40/40 [00:05<00:00,  6.89it/s]\n",
      "100%|██████████| 40/40 [00:02<00:00, 14.48it/s]\n",
      "100%|██████████| 40/40 [00:04<00:00,  9.37it/s]\n",
      "100%|██████████| 40/40 [00:04<00:00,  9.38it/s]\n",
      "100%|██████████| 40/40 [00:03<00:00, 12.85it/s]\n",
      "100%|██████████| 40/40 [00:03<00:00, 12.13it/s]\n",
      "100%|██████████| 40/40 [00:03<00:00, 11.15it/s]\n",
      "100%|██████████| 40/40 [00:03<00:00, 10.08it/s]\n",
      "100%|██████████| 40/40 [00:03<00:00, 12.55it/s]\n",
      "100%|██████████| 40/40 [00:03<00:00, 11.34it/s]\n",
      "100%|██████████| 40/40 [00:04<00:00,  9.11it/s]\n",
      "100%|██████████| 40/40 [00:02<00:00, 13.58it/s]\n",
      "100%|██████████| 40/40 [00:03<00:00, 12.32it/s]\n",
      "100%|██████████| 40/40 [00:03<00:00, 12.75it/s]\n",
      "100%|██████████| 40/40 [00:02<00:00, 13.46it/s]\n",
      "100%|██████████| 40/40 [00:03<00:00, 12.97it/s]\n"
     ]
    }
   ],
   "source": [
    "t_softmax = {}\n",
    "accuracies_softmax = {}\n",
    "\n",
    "for truncation_softmax in [1, 0]:\n",
    "    for expansion_softmax in [1, 0]:\n",
    "\n",
    "        current_name = (\"no\", \"yes\")[truncation_softmax] + \"-\" + (\"no\", \"yes\")[expansion_softmax]\n",
    "\n",
    "        t_softmax[current_name] = []\n",
    "        accuracies_softmax[current_name] = []\n",
    "\n",
    "        with open(\"config.json\", \"r\") as file:\n",
    "            config = json.load(file)\n",
    "        config[\"truncation_config\"][\"softmax\"] = truncation_softmax\n",
    "        config[\"expansion_config\"][\"softmax\"] = expansion_softmax\n",
    "\n",
    "        config_parser = ConfigParser(config)\n",
    "\n",
    "        selection_function = config_parser.get_selection_function()\n",
    "        parent_selection_function = config_parser.get_parent_selection_function()\n",
    "        truncation_function = config_parser.get_truncation_function()\n",
    "        expansion_function = config_parser.get_expansion_function()\n",
    "        mutation_function = config_parser.get_mutation_function()\n",
    "\n",
    "        n_iter = 40\n",
    "\n",
    "        for matrix, weights, answer in zip(matrixes_train, weights_train, answers_train):\n",
    "            for i in tqdm(list(range(n_iter))):\n",
    "                start_time = time.time()\n",
    "                result = genetic_algorithm(matrix, weights)\n",
    "                t_softmax[current_name].append(time.time() - start_time)\n",
    "                accuracies_softmax[current_name].append(accuracy(np.array([el.weight for el in result]), answer))"
   ],
   "metadata": {
    "collapsed": false,
    "pycharm": {
     "name": "#%%\n"
    }
   }
  },
  {
   "cell_type": "code",
   "execution_count": 180,
   "outputs": [
    {
     "data": {
      "text/plain": "<Figure size 432x288 with 1 Axes>",
      "image/png": "[encoded data removed]"
     },
     "metadata": {
      "needs_background": "light"
     },
     "output_type": "display_data"
    }
   ],
   "source": [
    "plt.boxplot([t_softmax[\"no-no\"],\n",
    "             t_softmax[\"no-yes\"],\n",
    "             t_softmax[\"yes-no\"],\n",
    "             t_softmax[\"yes-yes\"]], labels=[\"no-no\", \"no-yes\", \"yes-no\", \"yes-yes\"])\n",
    "\n",
    "plt.grid()\n",
    "plt.show()"
   ],
   "metadata": {
    "collapsed": false,
    "pycharm": {
     "name": "#%%\n"
    }
   }
  },
  {
   "cell_type": "code",
   "execution_count": 182,
   "outputs": [
    {
     "data": {
      "text/plain": "<Figure size 432x288 with 1 Axes>",
      "image/png": "[encoded data removed]"
     },
     "metadata": {
      "needs_background": "light"
     },
     "output_type": "display_data"
    }
   ],
   "source": [
    "plt.scatter(np.mean(accuracies_softmax[\"no-no\"]), np.mean(t_softmax[\"no-no\"]), label=\"no-no\")\n",
    "plt.scatter(np.mean(accuracies_softmax[\"no-yes\"]), np.mean(t_softmax[\"no-yes\"]), label=\"no-yes\")\n",
    "plt.scatter(np.mean(accuracies_softmax[\"yes-no\"]), np.mean(t_softmax[\"yes-no\"]), label=\"yes-no\")\n",
    "plt.scatter(np.mean(accuracies_softmax[\"yes-yes\"]), np.mean(t_softmax[\"yes-yes\"]), label=\"yes-yes\")\n",
    "plt.grid()\n",
    "plt.legend()\n",
    "plt.show()"
   ],
   "metadata": {
    "collapsed": false,
    "pycharm": {
     "name": "#%%\n"
    }
   }
  },
  {
   "cell_type": "code",
   "execution_count": 78,
   "outputs": [
    {
     "data": {
      "text/plain": "<Figure size 432x288 with 1 Axes>",
      "image/png": "[encoded data removed]"
     },
     "metadata": {
      "needs_background": "light"
     },
     "output_type": "display_data"
    }
   ],
   "source": [
    "plt.grid(True, which='major', linestyle='--', linewidth=0.5)\n",
    "plt.bar(\"no-no\", 0.53)\n",
    "plt.bar(\"no-yes\", 0.85)\n",
    "plt.bar(\"yes-no\", 0.932)\n",
    "plt.bar(\"yes-yes\", 0.934)\n",
    "plt.ylim(0.5, 0.98)\n",
    "plt.show()"
   ],
   "metadata": {
    "collapsed": false,
    "pycharm": {
     "name": "#%%\n"
    }
   }
  },
  {
   "cell_type": "code",
   "execution_count": 26,
   "outputs": [
    {
     "name": "stderr",
     "output_type": "stream",
     "text": [
      "100%|██████████| 20/20 [29:06<00:00, 87.31s/it] \n"
     ]
    }
   ],
   "source": [
    "t_alpha = {}\n",
    "accuracies_alpha = {}\n",
    "\n",
    "for alpha in tqdm(np.arange(0, 2, 0.1)):\n",
    "\n",
    "    t_alpha[alpha] = []\n",
    "    accuracies_alpha[alpha] = []\n",
    "\n",
    "    with open(\"config.json\", \"r\") as file:\n",
    "        config = json.load(file)\n",
    "    config[\"truncation_config\"][\"alpha\"] = alpha\n",
    "    config[\"expansion_config\"][\"alpha\"] = alpha\n",
    "\n",
    "    config_parser = ConfigParser(config)\n",
    "\n",
    "    selection_function = config_parser.get_selection_function()\n",
    "    parent_selection_function = config_parser.get_parent_selection_function()\n",
    "    truncation_function = config_parser.get_truncation_function()\n",
    "    expansion_function = config_parser.get_expansion_function()\n",
    "    mutation_function = config_parser.get_mutation_function()\n",
    "\n",
    "    n_iter = 40\n",
    "\n",
    "    for matrix, weights, answer in zip(matrixes_train, weights_train, answers_train):\n",
    "        for i in list(range(n_iter)):\n",
    "            start_time = time.time()\n",
    "            result = genetic_algorithm(matrix, weights)\n",
    "            t_alpha[alpha].append(time.time() - start_time)\n",
    "            accuracies_alpha[alpha].append(accuracy(np.array([el.weight for el in result]), answer))"
   ],
   "metadata": {
    "collapsed": false,
    "pycharm": {
     "name": "#%%\n"
    }
   }
  },
  {
   "cell_type": "code",
   "execution_count": 29,
   "outputs": [
    {
     "data": {
      "text/plain": "<Figure size 432x288 with 1 Axes>",
      "image/png": "[encoded data removed]"
     },
     "metadata": {
      "needs_background": "light"
     },
     "output_type": "display_data"
    }
   ],
   "source": [
    "plt.plot(list(t_alpha.keys()), [np.mean(res) for res in t_alpha.values()])\n",
    "plt.grid()\n",
    "plt.show()"
   ],
   "metadata": {
    "collapsed": false,
    "pycharm": {
     "name": "#%%\n"
    }
   }
  },
  {
   "cell_type": "code",
   "execution_count": 30,
   "outputs": [
    {
     "data": {
      "text/plain": "<Figure size 432x288 with 1 Axes>",
      "image/png": "[encoded data removed]"
     },
     "metadata": {
      "needs_background": "light"
     },
     "output_type": "display_data"
    }
   ],
   "source": [
    "plt.plot(list(accuracies_alpha.keys()), [np.mean(res) for res in accuracies_alpha.values()])\n",
    "plt.grid()\n",
    "plt.show()"
   ],
   "metadata": {
    "collapsed": false,
    "pycharm": {
     "name": "#%%\n"
    }
   }
  },
  {
   "cell_type": "code",
   "execution_count": 31,
   "outputs": [
    {
     "data": {
      "text/plain": "<Figure size 432x288 with 1 Axes>",
      "image/png": "[encoded data removed]"
     },
     "metadata": {
      "needs_background": "light"
     },
     "output_type": "display_data"
    }
   ],
   "source": [
    "plt.plot([np.mean(res) for res in t_alpha.values()], [np.mean(res) for res in accuracies_alpha.values()])\n",
    "plt.grid()\n",
    "plt.show()"
   ],
   "metadata": {
    "collapsed": false,
    "pycharm": {
     "name": "#%%\n"
    }
   }
  },
  {
   "cell_type": "code",
   "execution_count": 32,
   "outputs": [
    {
     "name": "stderr",
     "output_type": "stream",
     "text": [
      "100%|██████████| 12/12 [07:03<00:00, 35.25s/it]\n"
     ]
    }
   ],
   "source": [
    "t_temperature = {}\n",
    "accuracies_temperature = {}\n",
    "\n",
    "for temperature in tqdm(np.arange(0.5, 4, 0.3)):\n",
    "\n",
    "    t_temperature[temperature] = []\n",
    "    accuracies_temperature[temperature] = []\n",
    "\n",
    "    with open(\"config.json\", \"r\") as file:\n",
    "        config = json.load(file)\n",
    "    config[\"truncation_config\"][\"temperature\"] = temperature\n",
    "    config[\"expansion_config\"][\"temperature\"] = temperature\n",
    "\n",
    "    config_parser = ConfigParser(config)\n",
    "\n",
    "    selection_function = config_parser.get_selection_function()\n",
    "    parent_selection_function = config_parser.get_parent_selection_function()\n",
    "    truncation_function = config_parser.get_truncation_function()\n",
    "    expansion_function = config_parser.get_expansion_function()\n",
    "    mutation_function = config_parser.get_mutation_function()\n",
    "\n",
    "    n_iter = 40\n",
    "\n",
    "    for matrix, weights, answer in zip(matrixes_train, weights_train, answers_train):\n",
    "        for i in list(range(n_iter)):\n",
    "            start_time = time.time()\n",
    "            result = genetic_algorithm(matrix, weights)\n",
    "            t_temperature[temperature].append(time.time() - start_time)\n",
    "            accuracies_temperature[temperature].append(accuracy(np.array([el.weight for el in result]), answer))"
   ],
   "metadata": {
    "collapsed": false,
    "pycharm": {
     "name": "#%%\n"
    }
   }
  },
  {
   "cell_type": "code",
   "execution_count": 33,
   "outputs": [
    {
     "data": {
      "text/plain": "<Figure size 432x288 with 1 Axes>",
      "image/png": "[encoded data removed]"
     },
     "metadata": {
      "needs_background": "light"
     },
     "output_type": "display_data"
    }
   ],
   "source": [
    "plt.plot(list(t_temperature.keys()), [np.mean(res) for res in t_temperature.values()])\n",
    "plt.grid()\n",
    "plt.show()"
   ],
   "metadata": {
    "collapsed": false,
    "pycharm": {
     "name": "#%%\n"
    }
   }
  },
  {
   "cell_type": "code",
   "execution_count": 34,
   "outputs": [
    {
     "data": {
      "text/plain": "<Figure size 432x288 with 1 Axes>",
      "image/png": "[encoded data removed]"
     },
     "metadata": {
      "needs_background": "light"
     },
     "output_type": "display_data"
    }
   ],
   "source": [
    "plt.plot(list(accuracies_temperature.keys()), [np.mean(res) for res in accuracies_temperature.values()])\n",
    "plt.grid()\n",
    "plt.show()"
   ],
   "metadata": {
    "collapsed": false,
    "pycharm": {
     "name": "#%%\n"
    }
   }
  },
  {
   "cell_type": "code",
   "execution_count": 35,
   "outputs": [
    {
     "data": {
      "text/plain": "<Figure size 432x288 with 1 Axes>",
      "image/png": "[encoded data removed]"
     },
     "metadata": {
      "needs_background": "light"
     },
     "output_type": "display_data"
    }
   ],
   "source": [
    "plt.plot([np.mean(res) for res in t_temperature.values()], [np.mean(res) for res in accuracies_temperature.values()])\n",
    "plt.grid()\n",
    "plt.show()"
   ],
   "metadata": {
    "collapsed": false,
    "pycharm": {
     "name": "#%%\n"
    }
   }
  },
  {
   "cell_type": "code",
   "execution_count": null,
   "outputs": [],
   "source": [],
   "metadata": {
    "collapsed": false,
    "pycharm": {
     "name": "#%%\n"
    }
   }
  },
  {
   "cell_type": "code",
   "execution_count": 53,
   "outputs": [
    {
     "name": "stdout",
     "output_type": "stream",
     "text": [
      "{'no_change_stop': 15, 'population_size': 40, 'keep_best': 5, 'selection_config': {'method': 'tournament', 'softmax': 1, 'temperature': 2}, 'parent_selection_config': {'method': 'outbreeding', 'skip_parent_probability': 0.2}, 'truncation_config': {'method': 'greedy', 'softmax': 1, 'temperature': 2.25, 'alpha': 0.5}, 'expansion_config': {'method': 'greedy', 'softmax': 1, 'temperature': 2.25, 'alpha': 0.5}, 'mutation_config': {'mutation_probability': 0.5, 'mutation_strength': 0.1}}\n"
     ]
    },
    {
     "name": "stderr",
     "output_type": "stream",
     "text": [
      "100%|██████████| 100/100 [00:09<00:00, 10.90it/s]\n",
      "100%|██████████| 100/100 [00:08<00:00, 11.24it/s]\n",
      "100%|██████████| 100/100 [00:08<00:00, 11.14it/s]\n",
      "100%|██████████| 100/100 [00:09<00:00, 10.94it/s]\n",
      "100%|██████████| 100/100 [00:08<00:00, 12.26it/s]\n",
      "100%|██████████| 100/100 [00:08<00:00, 11.27it/s]\n",
      "100%|██████████| 100/100 [00:09<00:00, 10.90it/s]\n",
      "100%|██████████| 100/100 [00:08<00:00, 11.80it/s]\n",
      "100%|██████████| 100/100 [00:09<00:00, 10.99it/s]\n",
      "100%|██████████| 100/100 [00:08<00:00, 11.86it/s]\n"
     ]
    }
   ],
   "source": [
    "t = 0\n",
    "accuracies = []\n",
    "n_iter = 100\n",
    "\n",
    "with open(\"config.json\", \"r\") as file:\n",
    "    config = json.load(file)\n",
    "\n",
    "print(config)\n",
    "config_parser = ConfigParser(config)\n",
    "\n",
    "selection_function = config_parser.get_selection_function()\n",
    "parent_selection_function = config_parser.get_parent_selection_function()\n",
    "truncation_function = config_parser.get_truncation_function()\n",
    "expansion_function = config_parser.get_expansion_function()\n",
    "mutation_function = config_parser.get_mutation_function()\n",
    "\n",
    "for matrix, weights, answer in zip(all_matrixes, all_weights, answers):\n",
    "    for i in tqdm(list(range(n_iter))):\n",
    "        start_time = time.time()\n",
    "        result = genetic_algorithm(matrix, weights)\n",
    "        t += time.time() - start_time\n",
    "        accuracies.append(accuracy(np.array([el.weight for el in result]), answer))"
   ],
   "metadata": {
    "collapsed": false,
    "pycharm": {
     "name": "#%%\n"
    }
   }
  },
  {
   "cell_type": "code",
   "execution_count": 54,
   "outputs": [
    {
     "name": "stdout",
     "output_type": "stream",
     "text": [
      "mean time: 0.12587772369384764\n",
      "mean accuracy: 0.7748\n"
     ]
    }
   ],
   "source": [
    "print(\"mean time:\", t / (n_iter * len(matrixes_train)))\n",
    "print(\"mean accuracy:\", np.mean(accuracies))"
   ],
   "metadata": {
    "collapsed": false,
    "pycharm": {
     "name": "#%%\n"
    }
   }
  },
  {
   "cell_type": "code",
   "execution_count": null,
   "outputs": [],
   "source": [],
   "metadata": {
    "collapsed": false,
    "pycharm": {
     "name": "#%%\n"
    }
   }
  }
 ],
 "metadata": {
  "kernelspec": {
   "display_name": "Python 3",
   "language": "python",
   "name": "python3"
  },
  "language_info": {
   "codemirror_mode": {
    "name": "ipython",
    "version": 2
   },
   "file_extension": ".py",
   "mimetype": "text/x-python",
   "name": "python",
   "nbconvert_exporter": "python",
   "pygments_lexer": "ipython2",
   "version": "2.7.6"
  }
 },
 "nbformat": 4,
 "nbformat_minor": 0
}